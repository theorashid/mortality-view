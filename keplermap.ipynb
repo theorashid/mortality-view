{
 "metadata": {
  "language_info": {
   "codemirror_mode": {
    "name": "ipython",
    "version": 3
   },
   "file_extension": ".py",
   "mimetype": "text/x-python",
   "name": "python",
   "nbconvert_exporter": "python",
   "pygments_lexer": "ipython3",
   "version": "3.8.6-final"
  },
  "orig_nbformat": 2,
  "kernelspec": {
   "name": "Python 3.8.6 64-bit ('mortviz': conda)",
   "display_name": "Python 3.8.6 64-bit ('mortviz': conda)",
   "metadata": {
    "interpreter": {
     "hash": "477471722d29a76dc72d179394ab7f8f7300c13c3eef99ae9cff40f919cfc097"
    }
   }
  }
 },
 "nbformat": 4,
 "nbformat_minor": 2,
 "cells": [
  {
   "cell_type": "code",
   "execution_count": 1,
   "metadata": {},
   "outputs": [],
   "source": [
    "import geopandas as gpd\n",
    "import pandas as pd"
   ]
  },
  {
   "source": [
    "Import shape data"
   ],
   "cell_type": "markdown",
   "metadata": {}
  },
  {
   "cell_type": "code",
   "execution_count": 2,
   "metadata": {},
   "outputs": [
    {
     "output_type": "execute_result",
     "data": {
      "text/plain": [
       "      OBJECTID   MSOA2011   BNG_E   BNG_N    LONG      LAT    Shape__Are  \\\n",
       "0            1  E02000001  532384  181355 -0.0935  51.5156  2.906361e+06   \n",
       "1            2  E02000002  548267  189685  0.1388  51.5865  2.166163e+06   \n",
       "2            3  E02000003  548259  188520  0.1381  51.5761  2.143568e+06   \n",
       "3            4  E02000004  551004  186412  0.1768  51.5564  2.491467e+06   \n",
       "4            5  E02000005  548733  186824  0.1443  51.5607  1.186053e+06   \n",
       "...        ...        ...     ...     ...     ...      ...           ...   \n",
       "7196      7197  W02000419  302419  380863 -3.4662  53.3157  2.706356e+06   \n",
       "7197      7198  W02000420  336850  353606 -2.9441  53.0759  7.918321e+07   \n",
       "7198      7199  W02000421  271405  266660 -3.8866  52.2830  7.694416e+08   \n",
       "7199      7200  W02000422  319643  174132 -3.1580  51.4604  6.518026e+06   \n",
       "7200      7201  W02000423  318619  174985 -3.1730  51.4680  2.062166e+06   \n",
       "\n",
       "       Shape__Len                                           geometry  \n",
       "0       8936.8185  MULTIPOLYGON (((-0.09680 51.52320, -0.09650 51...  \n",
       "1       8150.4059  MULTIPOLYGON (((0.14810 51.59680, 0.14810 51.5...  \n",
       "2       9118.1962  MULTIPOLYGON (((0.15060 51.58310, 0.14840 51.5...  \n",
       "3       8206.5516  MULTIPOLYGON (((0.18510 51.56480, 0.18400 51.5...  \n",
       "4       6949.6888  MULTIPOLYGON (((0.14990 51.56810, 0.15080 51.5...  \n",
       "...           ...                                                ...  \n",
       "7196    9286.3217  MULTIPOLYGON (((-3.45810 53.32070, -3.45750 53...  \n",
       "7197   68550.3370  MULTIPOLYGON (((-2.96020 53.13250, -2.95820 53...  \n",
       "7198  186339.9665  MULTIPOLYGON (((-3.74510 52.50750, -3.74340 52...  \n",
       "7199   20928.0737  MULTIPOLYGON (((-3.11760 51.37550, -3.11790 51...  \n",
       "7200   11276.4593  MULTIPOLYGON (((-3.16150 51.47690, -3.15970 51...  \n",
       "\n",
       "[7201 rows x 9 columns]"
      ],
      "text/html": "<div>\n<style scoped>\n    .dataframe tbody tr th:only-of-type {\n        vertical-align: middle;\n    }\n\n    .dataframe tbody tr th {\n        vertical-align: top;\n    }\n\n    .dataframe thead th {\n        text-align: right;\n    }\n</style>\n<table border=\"1\" class=\"dataframe\">\n  <thead>\n    <tr style=\"text-align: right;\">\n      <th></th>\n      <th>OBJECTID</th>\n      <th>MSOA2011</th>\n      <th>BNG_E</th>\n      <th>BNG_N</th>\n      <th>LONG</th>\n      <th>LAT</th>\n      <th>Shape__Are</th>\n      <th>Shape__Len</th>\n      <th>geometry</th>\n    </tr>\n  </thead>\n  <tbody>\n    <tr>\n      <th>0</th>\n      <td>1</td>\n      <td>E02000001</td>\n      <td>532384</td>\n      <td>181355</td>\n      <td>-0.0935</td>\n      <td>51.5156</td>\n      <td>2.906361e+06</td>\n      <td>8936.8185</td>\n      <td>MULTIPOLYGON (((-0.09680 51.52320, -0.09650 51...</td>\n    </tr>\n    <tr>\n      <th>1</th>\n      <td>2</td>\n      <td>E02000002</td>\n      <td>548267</td>\n      <td>189685</td>\n      <td>0.1388</td>\n      <td>51.5865</td>\n      <td>2.166163e+06</td>\n      <td>8150.4059</td>\n      <td>MULTIPOLYGON (((0.14810 51.59680, 0.14810 51.5...</td>\n    </tr>\n    <tr>\n      <th>2</th>\n      <td>3</td>\n      <td>E02000003</td>\n      <td>548259</td>\n      <td>188520</td>\n      <td>0.1381</td>\n      <td>51.5761</td>\n      <td>2.143568e+06</td>\n      <td>9118.1962</td>\n      <td>MULTIPOLYGON (((0.15060 51.58310, 0.14840 51.5...</td>\n    </tr>\n    <tr>\n      <th>3</th>\n      <td>4</td>\n      <td>E02000004</td>\n      <td>551004</td>\n      <td>186412</td>\n      <td>0.1768</td>\n      <td>51.5564</td>\n      <td>2.491467e+06</td>\n      <td>8206.5516</td>\n      <td>MULTIPOLYGON (((0.18510 51.56480, 0.18400 51.5...</td>\n    </tr>\n    <tr>\n      <th>4</th>\n      <td>5</td>\n      <td>E02000005</td>\n      <td>548733</td>\n      <td>186824</td>\n      <td>0.1443</td>\n      <td>51.5607</td>\n      <td>1.186053e+06</td>\n      <td>6949.6888</td>\n      <td>MULTIPOLYGON (((0.14990 51.56810, 0.15080 51.5...</td>\n    </tr>\n    <tr>\n      <th>...</th>\n      <td>...</td>\n      <td>...</td>\n      <td>...</td>\n      <td>...</td>\n      <td>...</td>\n      <td>...</td>\n      <td>...</td>\n      <td>...</td>\n      <td>...</td>\n    </tr>\n    <tr>\n      <th>7196</th>\n      <td>7197</td>\n      <td>W02000419</td>\n      <td>302419</td>\n      <td>380863</td>\n      <td>-3.4662</td>\n      <td>53.3157</td>\n      <td>2.706356e+06</td>\n      <td>9286.3217</td>\n      <td>MULTIPOLYGON (((-3.45810 53.32070, -3.45750 53...</td>\n    </tr>\n    <tr>\n      <th>7197</th>\n      <td>7198</td>\n      <td>W02000420</td>\n      <td>336850</td>\n      <td>353606</td>\n      <td>-2.9441</td>\n      <td>53.0759</td>\n      <td>7.918321e+07</td>\n      <td>68550.3370</td>\n      <td>MULTIPOLYGON (((-2.96020 53.13250, -2.95820 53...</td>\n    </tr>\n    <tr>\n      <th>7198</th>\n      <td>7199</td>\n      <td>W02000421</td>\n      <td>271405</td>\n      <td>266660</td>\n      <td>-3.8866</td>\n      <td>52.2830</td>\n      <td>7.694416e+08</td>\n      <td>186339.9665</td>\n      <td>MULTIPOLYGON (((-3.74510 52.50750, -3.74340 52...</td>\n    </tr>\n    <tr>\n      <th>7199</th>\n      <td>7200</td>\n      <td>W02000422</td>\n      <td>319643</td>\n      <td>174132</td>\n      <td>-3.1580</td>\n      <td>51.4604</td>\n      <td>6.518026e+06</td>\n      <td>20928.0737</td>\n      <td>MULTIPOLYGON (((-3.11760 51.37550, -3.11790 51...</td>\n    </tr>\n    <tr>\n      <th>7200</th>\n      <td>7201</td>\n      <td>W02000423</td>\n      <td>318619</td>\n      <td>174985</td>\n      <td>-3.1730</td>\n      <td>51.4680</td>\n      <td>2.062166e+06</td>\n      <td>11276.4593</td>\n      <td>MULTIPOLYGON (((-3.16150 51.47690, -3.15970 51...</td>\n    </tr>\n  </tbody>\n</table>\n<p>7201 rows × 9 columns</p>\n</div>"
     },
     "metadata": {},
     "execution_count": 2
    }
   ],
   "source": [
    "shapefile = gpd.read_file(\"Data/MSOA2011_BGC.geojson\")\n",
    "shapefile"
   ]
  },
  {
   "cell_type": "code",
   "execution_count": 3,
   "metadata": {},
   "outputs": [
    {
     "output_type": "execute_result",
     "data": {
      "text/plain": [
       "<Geographic 2D CRS: EPSG:4326>\n",
       "Name: WGS 84\n",
       "Axis Info [ellipsoidal]:\n",
       "- Lat[north]: Geodetic latitude (degree)\n",
       "- Lon[east]: Geodetic longitude (degree)\n",
       "Area of Use:\n",
       "- name: World\n",
       "- bounds: (-180.0, -90.0, 180.0, 90.0)\n",
       "Datum: World Geodetic System 1984\n",
       "- Ellipsoid: WGS 84\n",
       "- Prime Meridian: Greenwich"
      ]
     },
     "metadata": {},
     "execution_count": 3
    }
   ],
   "source": [
    "shapefile.crs"
   ]
  },
  {
   "source": [
    "Import geography lookups and merge"
   ],
   "cell_type": "markdown",
   "metadata": {}
  },
  {
   "cell_type": "code",
   "execution_count": 4,
   "metadata": {},
   "outputs": [],
   "source": [
    "geog = pd.read_csv(\"Data/LSOA_eng_lookup.csv\")"
   ]
  },
  {
   "cell_type": "code",
   "execution_count": 5,
   "metadata": {},
   "outputs": [],
   "source": [
    "geog = geog[[\"MSOA2011\", \"MSOA2011NM\", \"LAD2011\", \"LAD2011NM\", \"GOR2011\", \"GOR2011NM\", \"CTRY2011\",         \"CTRY2011NM\"]]\n",
    "# geog = geog[\"CTRY2011NM\" == \"England\"]\n",
    "geog = geog.drop_duplicates()"
   ]
  },
  {
   "cell_type": "code",
   "execution_count": 6,
   "metadata": {},
   "outputs": [
    {
     "output_type": "execute_result",
     "data": {
      "text/plain": [
       "       MSOA2011       MSOA2011NM    LAD2011    LAD2011NM    GOR2011  \\\n",
       "0     E02002012       Dudley 013  E08000027       Dudley  E12000005   \n",
       "1     E02002015       Dudley 016  E08000027       Dudley  E12000005   \n",
       "2     E02002016       Dudley 017  E08000027       Dudley  E12000005   \n",
       "3     E02002021       Dudley 022  E08000027       Dudley  E12000005   \n",
       "4     E02002004       Dudley 005  E08000027       Dudley  E12000005   \n",
       "...         ...              ...        ...          ...        ...   \n",
       "6786  E02005805  Scarborough 011  E07000168  Scarborough  E12000003   \n",
       "6787  E02005806  Scarborough 012  E07000168  Scarborough  E12000003   \n",
       "6788  E02005791      Ryedale 004  E07000167      Ryedale  E12000003   \n",
       "6789  E02005802  Scarborough 008  E07000168  Scarborough  E12000003   \n",
       "6790  E02005801  Scarborough 007  E07000168  Scarborough  E12000003   \n",
       "\n",
       "                     GOR2011NM   CTRY2011 CTRY2011NM  OBJECTID   BNG_E  \\\n",
       "0                West Midlands  E92000001    England      1956  392208   \n",
       "1                West Midlands  E92000001    England      1959  389944   \n",
       "2                West Midlands  E92000001    England      1960  391370   \n",
       "3                West Midlands  E92000001    England      1965  391868   \n",
       "4                West Midlands  E92000001    England      1948  392661   \n",
       "...                        ...        ...        ...       ...     ...   \n",
       "6786  Yorkshire and The Humber  E92000001    England      5676  506883   \n",
       "6787  Yorkshire and The Humber  E92000001    England      5677  504209   \n",
       "6788  Yorkshire and The Humber  E92000001    England      5664  489926   \n",
       "6789  Yorkshire and The Humber  E92000001    England      5673  503473   \n",
       "6790  Yorkshire and The Humber  E92000001    England      5672  502773   \n",
       "\n",
       "       BNG_N    LONG      LAT    Shape__Are   Shape__Len  \\\n",
       "0     289460 -2.1162  52.5030  2.452180e+06   10940.8363   \n",
       "1     288818 -2.1495  52.4972  2.260545e+06   11364.4267   \n",
       "2     288612 -2.1285  52.4954  2.528808e+06   13966.7203   \n",
       "3     287269 -2.1212  52.4833  2.911156e+06   10263.0846   \n",
       "4     292624 -2.1096  52.5314  1.686588e+06    8971.0564   \n",
       "...      ...     ...      ...           ...          ...   \n",
       "6786  483704 -0.3616  54.2379  2.353795e+07   33532.7168   \n",
       "6787  485070 -0.4021  54.2507  7.839442e+06   19811.3855   \n",
       "6788  469284 -0.6259  54.1116  3.356864e+08  111577.4309   \n",
       "6789  488417 -0.4122  54.2809  8.357456e+05    5057.8837   \n",
       "6790  489155 -0.4227  54.2877  1.382189e+06    6501.0799   \n",
       "\n",
       "                                               geometry  \n",
       "0     MULTIPOLYGON (((-2.10950 52.51170, -2.10870 52...  \n",
       "1     MULTIPOLYGON (((-2.13470 52.50310, -2.13390 52...  \n",
       "2     MULTIPOLYGON (((-2.13140 52.50520, -2.12990 52...  \n",
       "3     MULTIPOLYGON (((-2.10600 52.49230, -2.10690 52...  \n",
       "4     MULTIPOLYGON (((-2.10650 52.53830, -2.10560 52...  \n",
       "...                                                 ...  \n",
       "6786  MULTIPOLYGON (((-0.38400 54.26400, -0.38120 54...  \n",
       "6787  MULTIPOLYGON (((-0.43290 54.26600, -0.42700 54...  \n",
       "6788  MULTIPOLYGON (((-0.43750 54.21500, -0.43410 54...  \n",
       "6789  MULTIPOLYGON (((-0.40970 54.28870, -0.41010 54...  \n",
       "6790  MULTIPOLYGON (((-0.40930 54.29210, -0.40760 54...  \n",
       "\n",
       "[6791 rows x 16 columns]"
      ],
      "text/html": "<div>\n<style scoped>\n    .dataframe tbody tr th:only-of-type {\n        vertical-align: middle;\n    }\n\n    .dataframe tbody tr th {\n        vertical-align: top;\n    }\n\n    .dataframe thead th {\n        text-align: right;\n    }\n</style>\n<table border=\"1\" class=\"dataframe\">\n  <thead>\n    <tr style=\"text-align: right;\">\n      <th></th>\n      <th>MSOA2011</th>\n      <th>MSOA2011NM</th>\n      <th>LAD2011</th>\n      <th>LAD2011NM</th>\n      <th>GOR2011</th>\n      <th>GOR2011NM</th>\n      <th>CTRY2011</th>\n      <th>CTRY2011NM</th>\n      <th>OBJECTID</th>\n      <th>BNG_E</th>\n      <th>BNG_N</th>\n      <th>LONG</th>\n      <th>LAT</th>\n      <th>Shape__Are</th>\n      <th>Shape__Len</th>\n      <th>geometry</th>\n    </tr>\n  </thead>\n  <tbody>\n    <tr>\n      <th>0</th>\n      <td>E02002012</td>\n      <td>Dudley 013</td>\n      <td>E08000027</td>\n      <td>Dudley</td>\n      <td>E12000005</td>\n      <td>West Midlands</td>\n      <td>E92000001</td>\n      <td>England</td>\n      <td>1956</td>\n      <td>392208</td>\n      <td>289460</td>\n      <td>-2.1162</td>\n      <td>52.5030</td>\n      <td>2.452180e+06</td>\n      <td>10940.8363</td>\n      <td>MULTIPOLYGON (((-2.10950 52.51170, -2.10870 52...</td>\n    </tr>\n    <tr>\n      <th>1</th>\n      <td>E02002015</td>\n      <td>Dudley 016</td>\n      <td>E08000027</td>\n      <td>Dudley</td>\n      <td>E12000005</td>\n      <td>West Midlands</td>\n      <td>E92000001</td>\n      <td>England</td>\n      <td>1959</td>\n      <td>389944</td>\n      <td>288818</td>\n      <td>-2.1495</td>\n      <td>52.4972</td>\n      <td>2.260545e+06</td>\n      <td>11364.4267</td>\n      <td>MULTIPOLYGON (((-2.13470 52.50310, -2.13390 52...</td>\n    </tr>\n    <tr>\n      <th>2</th>\n      <td>E02002016</td>\n      <td>Dudley 017</td>\n      <td>E08000027</td>\n      <td>Dudley</td>\n      <td>E12000005</td>\n      <td>West Midlands</td>\n      <td>E92000001</td>\n      <td>England</td>\n      <td>1960</td>\n      <td>391370</td>\n      <td>288612</td>\n      <td>-2.1285</td>\n      <td>52.4954</td>\n      <td>2.528808e+06</td>\n      <td>13966.7203</td>\n      <td>MULTIPOLYGON (((-2.13140 52.50520, -2.12990 52...</td>\n    </tr>\n    <tr>\n      <th>3</th>\n      <td>E02002021</td>\n      <td>Dudley 022</td>\n      <td>E08000027</td>\n      <td>Dudley</td>\n      <td>E12000005</td>\n      <td>West Midlands</td>\n      <td>E92000001</td>\n      <td>England</td>\n      <td>1965</td>\n      <td>391868</td>\n      <td>287269</td>\n      <td>-2.1212</td>\n      <td>52.4833</td>\n      <td>2.911156e+06</td>\n      <td>10263.0846</td>\n      <td>MULTIPOLYGON (((-2.10600 52.49230, -2.10690 52...</td>\n    </tr>\n    <tr>\n      <th>4</th>\n      <td>E02002004</td>\n      <td>Dudley 005</td>\n      <td>E08000027</td>\n      <td>Dudley</td>\n      <td>E12000005</td>\n      <td>West Midlands</td>\n      <td>E92000001</td>\n      <td>England</td>\n      <td>1948</td>\n      <td>392661</td>\n      <td>292624</td>\n      <td>-2.1096</td>\n      <td>52.5314</td>\n      <td>1.686588e+06</td>\n      <td>8971.0564</td>\n      <td>MULTIPOLYGON (((-2.10650 52.53830, -2.10560 52...</td>\n    </tr>\n    <tr>\n      <th>...</th>\n      <td>...</td>\n      <td>...</td>\n      <td>...</td>\n      <td>...</td>\n      <td>...</td>\n      <td>...</td>\n      <td>...</td>\n      <td>...</td>\n      <td>...</td>\n      <td>...</td>\n      <td>...</td>\n      <td>...</td>\n      <td>...</td>\n      <td>...</td>\n      <td>...</td>\n      <td>...</td>\n    </tr>\n    <tr>\n      <th>6786</th>\n      <td>E02005805</td>\n      <td>Scarborough 011</td>\n      <td>E07000168</td>\n      <td>Scarborough</td>\n      <td>E12000003</td>\n      <td>Yorkshire and The Humber</td>\n      <td>E92000001</td>\n      <td>England</td>\n      <td>5676</td>\n      <td>506883</td>\n      <td>483704</td>\n      <td>-0.3616</td>\n      <td>54.2379</td>\n      <td>2.353795e+07</td>\n      <td>33532.7168</td>\n      <td>MULTIPOLYGON (((-0.38400 54.26400, -0.38120 54...</td>\n    </tr>\n    <tr>\n      <th>6787</th>\n      <td>E02005806</td>\n      <td>Scarborough 012</td>\n      <td>E07000168</td>\n      <td>Scarborough</td>\n      <td>E12000003</td>\n      <td>Yorkshire and The Humber</td>\n      <td>E92000001</td>\n      <td>England</td>\n      <td>5677</td>\n      <td>504209</td>\n      <td>485070</td>\n      <td>-0.4021</td>\n      <td>54.2507</td>\n      <td>7.839442e+06</td>\n      <td>19811.3855</td>\n      <td>MULTIPOLYGON (((-0.43290 54.26600, -0.42700 54...</td>\n    </tr>\n    <tr>\n      <th>6788</th>\n      <td>E02005791</td>\n      <td>Ryedale 004</td>\n      <td>E07000167</td>\n      <td>Ryedale</td>\n      <td>E12000003</td>\n      <td>Yorkshire and The Humber</td>\n      <td>E92000001</td>\n      <td>England</td>\n      <td>5664</td>\n      <td>489926</td>\n      <td>469284</td>\n      <td>-0.6259</td>\n      <td>54.1116</td>\n      <td>3.356864e+08</td>\n      <td>111577.4309</td>\n      <td>MULTIPOLYGON (((-0.43750 54.21500, -0.43410 54...</td>\n    </tr>\n    <tr>\n      <th>6789</th>\n      <td>E02005802</td>\n      <td>Scarborough 008</td>\n      <td>E07000168</td>\n      <td>Scarborough</td>\n      <td>E12000003</td>\n      <td>Yorkshire and The Humber</td>\n      <td>E92000001</td>\n      <td>England</td>\n      <td>5673</td>\n      <td>503473</td>\n      <td>488417</td>\n      <td>-0.4122</td>\n      <td>54.2809</td>\n      <td>8.357456e+05</td>\n      <td>5057.8837</td>\n      <td>MULTIPOLYGON (((-0.40970 54.28870, -0.41010 54...</td>\n    </tr>\n    <tr>\n      <th>6790</th>\n      <td>E02005801</td>\n      <td>Scarborough 007</td>\n      <td>E07000168</td>\n      <td>Scarborough</td>\n      <td>E12000003</td>\n      <td>Yorkshire and The Humber</td>\n      <td>E92000001</td>\n      <td>England</td>\n      <td>5672</td>\n      <td>502773</td>\n      <td>489155</td>\n      <td>-0.4227</td>\n      <td>54.2877</td>\n      <td>1.382189e+06</td>\n      <td>6501.0799</td>\n      <td>MULTIPOLYGON (((-0.40930 54.29210, -0.40760 54...</td>\n    </tr>\n  </tbody>\n</table>\n<p>6791 rows × 16 columns</p>\n</div>"
     },
     "metadata": {},
     "execution_count": 6
    }
   ],
   "source": [
    "df = geog.merge(shapefile)\n",
    "df"
   ]
  },
  {
   "cell_type": "code",
   "execution_count": 7,
   "metadata": {},
   "outputs": [],
   "source": [
    "from keplergl import KeplerGl"
   ]
  },
  {
   "cell_type": "code",
   "execution_count": 8,
   "metadata": {},
   "outputs": [
    {
     "output_type": "error",
     "ename": "ValueError",
     "evalue": "Can't clean for JSON: <shapely.geometry.multipolygon.MultiPolygon object at 0x7ff8b80f5280>",
     "traceback": [
      "\u001b[0;31m---------------------------------------------------------------------------\u001b[0m",
      "\u001b[0;31mValueError\u001b[0m                                Traceback (most recent call last)",
      "\u001b[0;32m<ipython-input-8-59d9d2b1e3ce>\u001b[0m in \u001b[0;36m<module>\u001b[0;34m\u001b[0m\n\u001b[1;32m      1\u001b[0m \u001b[0;31m# kepler_map = KeplerGl(height = 800, data={\"data\": shapefile})\u001b[0m\u001b[0;34m\u001b[0m\u001b[0;34m\u001b[0m\u001b[0;34m\u001b[0m\u001b[0m\n\u001b[0;32m----> 2\u001b[0;31m \u001b[0mkepler_map\u001b[0m \u001b[0;34m=\u001b[0m \u001b[0mKeplerGl\u001b[0m\u001b[0;34m(\u001b[0m\u001b[0mheight\u001b[0m \u001b[0;34m=\u001b[0m \u001b[0;36m800\u001b[0m\u001b[0;34m,\u001b[0m \u001b[0mdata\u001b[0m\u001b[0;34m=\u001b[0m\u001b[0;34m{\u001b[0m\u001b[0;34m\"data\"\u001b[0m\u001b[0;34m:\u001b[0m \u001b[0mdf\u001b[0m\u001b[0;34m}\u001b[0m\u001b[0;34m)\u001b[0m \u001b[0;31m# DOES NOT WORK\u001b[0m\u001b[0;34m\u001b[0m\u001b[0;34m\u001b[0m\u001b[0m\n\u001b[0m\u001b[1;32m      3\u001b[0m \u001b[0mkepler_map\u001b[0m\u001b[0;34m\u001b[0m\u001b[0;34m\u001b[0m\u001b[0m\n",
      "\u001b[0;32m~/opt/anaconda3/envs/mortviz/lib/python3.8/site-packages/keplergl/keplergl.py\u001b[0m in \u001b[0;36m__init__\u001b[0;34m(self, **kwargs)\u001b[0m\n\u001b[1;32m     98\u001b[0m \u001b[0;34m\u001b[0m\u001b[0m\n\u001b[1;32m     99\u001b[0m     \u001b[0;32mdef\u001b[0m \u001b[0m__init__\u001b[0m\u001b[0;34m(\u001b[0m\u001b[0mself\u001b[0m\u001b[0;34m,\u001b[0m \u001b[0;34m**\u001b[0m\u001b[0mkwargs\u001b[0m\u001b[0;34m)\u001b[0m\u001b[0;34m:\u001b[0m\u001b[0;34m\u001b[0m\u001b[0;34m\u001b[0m\u001b[0m\n\u001b[0;32m--> 100\u001b[0;31m         \u001b[0msuper\u001b[0m\u001b[0;34m(\u001b[0m\u001b[0mKeplerGl\u001b[0m\u001b[0;34m,\u001b[0m \u001b[0mself\u001b[0m\u001b[0;34m)\u001b[0m\u001b[0;34m.\u001b[0m\u001b[0m__init__\u001b[0m\u001b[0;34m(\u001b[0m\u001b[0;34m**\u001b[0m\u001b[0mkwargs\u001b[0m\u001b[0;34m)\u001b[0m\u001b[0;34m\u001b[0m\u001b[0;34m\u001b[0m\u001b[0m\n\u001b[0m\u001b[1;32m    101\u001b[0m         \u001b[0mprint\u001b[0m\u001b[0;34m(\u001b[0m\u001b[0;34m'User Guide: {}'\u001b[0m\u001b[0;34m.\u001b[0m\u001b[0mformat\u001b[0m\u001b[0;34m(\u001b[0m\u001b[0mdocumentation\u001b[0m\u001b[0;34m)\u001b[0m\u001b[0;34m)\u001b[0m\u001b[0;34m\u001b[0m\u001b[0;34m\u001b[0m\u001b[0m\n\u001b[1;32m    102\u001b[0m \u001b[0;34m\u001b[0m\u001b[0m\n",
      "\u001b[0;32m~/opt/anaconda3/envs/mortviz/lib/python3.8/site-packages/ipywidgets/widgets/widget.py\u001b[0m in \u001b[0;36m__init__\u001b[0;34m(self, **kwargs)\u001b[0m\n\u001b[1;32m    413\u001b[0m \u001b[0;34m\u001b[0m\u001b[0m\n\u001b[1;32m    414\u001b[0m         \u001b[0mWidget\u001b[0m\u001b[0;34m.\u001b[0m\u001b[0m_call_widget_constructed\u001b[0m\u001b[0;34m(\u001b[0m\u001b[0mself\u001b[0m\u001b[0;34m)\u001b[0m\u001b[0;34m\u001b[0m\u001b[0;34m\u001b[0m\u001b[0m\n\u001b[0;32m--> 415\u001b[0;31m         \u001b[0mself\u001b[0m\u001b[0;34m.\u001b[0m\u001b[0mopen\u001b[0m\u001b[0;34m(\u001b[0m\u001b[0;34m)\u001b[0m\u001b[0;34m\u001b[0m\u001b[0;34m\u001b[0m\u001b[0m\n\u001b[0m\u001b[1;32m    416\u001b[0m \u001b[0;34m\u001b[0m\u001b[0m\n\u001b[1;32m    417\u001b[0m     \u001b[0;32mdef\u001b[0m \u001b[0m__del__\u001b[0m\u001b[0;34m(\u001b[0m\u001b[0mself\u001b[0m\u001b[0;34m)\u001b[0m\u001b[0;34m:\u001b[0m\u001b[0;34m\u001b[0m\u001b[0;34m\u001b[0m\u001b[0m\n",
      "\u001b[0;32m~/opt/anaconda3/envs/mortviz/lib/python3.8/site-packages/ipywidgets/widgets/widget.py\u001b[0m in \u001b[0;36mopen\u001b[0;34m(self)\u001b[0m\n\u001b[1;32m    436\u001b[0m                 \u001b[0margs\u001b[0m\u001b[0;34m[\u001b[0m\u001b[0;34m'comm_id'\u001b[0m\u001b[0;34m]\u001b[0m \u001b[0;34m=\u001b[0m \u001b[0mself\u001b[0m\u001b[0;34m.\u001b[0m\u001b[0m_model_id\u001b[0m\u001b[0;34m\u001b[0m\u001b[0;34m\u001b[0m\u001b[0m\n\u001b[1;32m    437\u001b[0m \u001b[0;34m\u001b[0m\u001b[0m\n\u001b[0;32m--> 438\u001b[0;31m             \u001b[0mself\u001b[0m\u001b[0;34m.\u001b[0m\u001b[0mcomm\u001b[0m \u001b[0;34m=\u001b[0m \u001b[0mComm\u001b[0m\u001b[0;34m(\u001b[0m\u001b[0;34m**\u001b[0m\u001b[0margs\u001b[0m\u001b[0;34m)\u001b[0m\u001b[0;34m\u001b[0m\u001b[0;34m\u001b[0m\u001b[0m\n\u001b[0m\u001b[1;32m    439\u001b[0m \u001b[0;34m\u001b[0m\u001b[0m\n\u001b[1;32m    440\u001b[0m     \u001b[0;34m@\u001b[0m\u001b[0mobserve\u001b[0m\u001b[0;34m(\u001b[0m\u001b[0;34m'comm'\u001b[0m\u001b[0;34m)\u001b[0m\u001b[0;34m\u001b[0m\u001b[0;34m\u001b[0m\u001b[0m\n",
      "\u001b[0;32m~/opt/anaconda3/envs/mortviz/lib/python3.8/site-packages/ipykernel/comm/comm.py\u001b[0m in \u001b[0;36m__init__\u001b[0;34m(self, target_name, data, metadata, buffers, **kwargs)\u001b[0m\n\u001b[1;32m     55\u001b[0m             \u001b[0;32mif\u001b[0m \u001b[0mself\u001b[0m\u001b[0;34m.\u001b[0m\u001b[0mprimary\u001b[0m\u001b[0;34m:\u001b[0m\u001b[0;34m\u001b[0m\u001b[0;34m\u001b[0m\u001b[0m\n\u001b[1;32m     56\u001b[0m                 \u001b[0;31m# I am primary, open my peer.\u001b[0m\u001b[0;34m\u001b[0m\u001b[0;34m\u001b[0m\u001b[0;34m\u001b[0m\u001b[0m\n\u001b[0;32m---> 57\u001b[0;31m                 \u001b[0mself\u001b[0m\u001b[0;34m.\u001b[0m\u001b[0mopen\u001b[0m\u001b[0;34m(\u001b[0m\u001b[0mdata\u001b[0m\u001b[0;34m=\u001b[0m\u001b[0mdata\u001b[0m\u001b[0;34m,\u001b[0m \u001b[0mmetadata\u001b[0m\u001b[0;34m=\u001b[0m\u001b[0mmetadata\u001b[0m\u001b[0;34m,\u001b[0m \u001b[0mbuffers\u001b[0m\u001b[0;34m=\u001b[0m\u001b[0mbuffers\u001b[0m\u001b[0;34m)\u001b[0m\u001b[0;34m\u001b[0m\u001b[0;34m\u001b[0m\u001b[0m\n\u001b[0m\u001b[1;32m     58\u001b[0m             \u001b[0;32melse\u001b[0m\u001b[0;34m:\u001b[0m\u001b[0;34m\u001b[0m\u001b[0;34m\u001b[0m\u001b[0m\n\u001b[1;32m     59\u001b[0m                 \u001b[0mself\u001b[0m\u001b[0;34m.\u001b[0m\u001b[0m_closed\u001b[0m \u001b[0;34m=\u001b[0m \u001b[0;32mFalse\u001b[0m\u001b[0;34m\u001b[0m\u001b[0;34m\u001b[0m\u001b[0m\n",
      "\u001b[0;32m~/opt/anaconda3/envs/mortviz/lib/python3.8/site-packages/ipykernel/comm/comm.py\u001b[0m in \u001b[0;36mopen\u001b[0;34m(self, data, metadata, buffers)\u001b[0m\n\u001b[1;32m     89\u001b[0m         \u001b[0mcomm_manager\u001b[0m\u001b[0;34m.\u001b[0m\u001b[0mregister_comm\u001b[0m\u001b[0;34m(\u001b[0m\u001b[0mself\u001b[0m\u001b[0;34m)\u001b[0m\u001b[0;34m\u001b[0m\u001b[0;34m\u001b[0m\u001b[0m\n\u001b[1;32m     90\u001b[0m         \u001b[0;32mtry\u001b[0m\u001b[0;34m:\u001b[0m\u001b[0;34m\u001b[0m\u001b[0;34m\u001b[0m\u001b[0m\n\u001b[0;32m---> 91\u001b[0;31m             self._publish_msg('comm_open',\n\u001b[0m\u001b[1;32m     92\u001b[0m                               \u001b[0mdata\u001b[0m\u001b[0;34m=\u001b[0m\u001b[0mdata\u001b[0m\u001b[0;34m,\u001b[0m \u001b[0mmetadata\u001b[0m\u001b[0;34m=\u001b[0m\u001b[0mmetadata\u001b[0m\u001b[0;34m,\u001b[0m \u001b[0mbuffers\u001b[0m\u001b[0;34m=\u001b[0m\u001b[0mbuffers\u001b[0m\u001b[0;34m,\u001b[0m\u001b[0;34m\u001b[0m\u001b[0;34m\u001b[0m\u001b[0m\n\u001b[1;32m     93\u001b[0m                               \u001b[0mtarget_name\u001b[0m\u001b[0;34m=\u001b[0m\u001b[0mself\u001b[0m\u001b[0;34m.\u001b[0m\u001b[0mtarget_name\u001b[0m\u001b[0;34m,\u001b[0m\u001b[0;34m\u001b[0m\u001b[0;34m\u001b[0m\u001b[0m\n",
      "\u001b[0;32m~/opt/anaconda3/envs/mortviz/lib/python3.8/site-packages/ipykernel/comm/comm.py\u001b[0m in \u001b[0;36m_publish_msg\u001b[0;34m(self, msg_type, data, metadata, buffers, **keys)\u001b[0m\n\u001b[1;32m     63\u001b[0m         \u001b[0mdata\u001b[0m \u001b[0;34m=\u001b[0m \u001b[0;34m{\u001b[0m\u001b[0;34m}\u001b[0m \u001b[0;32mif\u001b[0m \u001b[0mdata\u001b[0m \u001b[0;32mis\u001b[0m \u001b[0;32mNone\u001b[0m \u001b[0;32melse\u001b[0m \u001b[0mdata\u001b[0m\u001b[0;34m\u001b[0m\u001b[0;34m\u001b[0m\u001b[0m\n\u001b[1;32m     64\u001b[0m         \u001b[0mmetadata\u001b[0m \u001b[0;34m=\u001b[0m \u001b[0;34m{\u001b[0m\u001b[0;34m}\u001b[0m \u001b[0;32mif\u001b[0m \u001b[0mmetadata\u001b[0m \u001b[0;32mis\u001b[0m \u001b[0;32mNone\u001b[0m \u001b[0;32melse\u001b[0m \u001b[0mmetadata\u001b[0m\u001b[0;34m\u001b[0m\u001b[0;34m\u001b[0m\u001b[0m\n\u001b[0;32m---> 65\u001b[0;31m         \u001b[0mcontent\u001b[0m \u001b[0;34m=\u001b[0m \u001b[0mjson_clean\u001b[0m\u001b[0;34m(\u001b[0m\u001b[0mdict\u001b[0m\u001b[0;34m(\u001b[0m\u001b[0mdata\u001b[0m\u001b[0;34m=\u001b[0m\u001b[0mdata\u001b[0m\u001b[0;34m,\u001b[0m \u001b[0mcomm_id\u001b[0m\u001b[0;34m=\u001b[0m\u001b[0mself\u001b[0m\u001b[0;34m.\u001b[0m\u001b[0mcomm_id\u001b[0m\u001b[0;34m,\u001b[0m \u001b[0;34m**\u001b[0m\u001b[0mkeys\u001b[0m\u001b[0;34m)\u001b[0m\u001b[0;34m)\u001b[0m\u001b[0;34m\u001b[0m\u001b[0;34m\u001b[0m\u001b[0m\n\u001b[0m\u001b[1;32m     66\u001b[0m         self.kernel.session.send(self.kernel.iopub_socket, msg_type,\n\u001b[1;32m     67\u001b[0m             \u001b[0mcontent\u001b[0m\u001b[0;34m,\u001b[0m\u001b[0;34m\u001b[0m\u001b[0;34m\u001b[0m\u001b[0m\n",
      "\u001b[0;32m~/opt/anaconda3/envs/mortviz/lib/python3.8/site-packages/ipykernel/jsonutil.py\u001b[0m in \u001b[0;36mjson_clean\u001b[0;34m(obj)\u001b[0m\n\u001b[1;32m    189\u001b[0m         \u001b[0mout\u001b[0m \u001b[0;34m=\u001b[0m \u001b[0;34m{\u001b[0m\u001b[0;34m}\u001b[0m\u001b[0;34m\u001b[0m\u001b[0;34m\u001b[0m\u001b[0m\n\u001b[1;32m    190\u001b[0m         \u001b[0;32mfor\u001b[0m \u001b[0mk\u001b[0m\u001b[0;34m,\u001b[0m\u001b[0mv\u001b[0m \u001b[0;32min\u001b[0m \u001b[0miteritems\u001b[0m\u001b[0;34m(\u001b[0m\u001b[0mobj\u001b[0m\u001b[0;34m)\u001b[0m\u001b[0;34m:\u001b[0m\u001b[0;34m\u001b[0m\u001b[0;34m\u001b[0m\u001b[0m\n\u001b[0;32m--> 191\u001b[0;31m             \u001b[0mout\u001b[0m\u001b[0;34m[\u001b[0m\u001b[0municode_type\u001b[0m\u001b[0;34m(\u001b[0m\u001b[0mk\u001b[0m\u001b[0;34m)\u001b[0m\u001b[0;34m]\u001b[0m \u001b[0;34m=\u001b[0m \u001b[0mjson_clean\u001b[0m\u001b[0;34m(\u001b[0m\u001b[0mv\u001b[0m\u001b[0;34m)\u001b[0m\u001b[0;34m\u001b[0m\u001b[0;34m\u001b[0m\u001b[0m\n\u001b[0m\u001b[1;32m    192\u001b[0m         \u001b[0;32mreturn\u001b[0m \u001b[0mout\u001b[0m\u001b[0;34m\u001b[0m\u001b[0;34m\u001b[0m\u001b[0m\n\u001b[1;32m    193\u001b[0m     \u001b[0;32mif\u001b[0m \u001b[0misinstance\u001b[0m\u001b[0;34m(\u001b[0m\u001b[0mobj\u001b[0m\u001b[0;34m,\u001b[0m \u001b[0mdatetime\u001b[0m\u001b[0;34m)\u001b[0m\u001b[0;34m:\u001b[0m\u001b[0;34m\u001b[0m\u001b[0;34m\u001b[0m\u001b[0m\n",
      "\u001b[0;32m~/opt/anaconda3/envs/mortviz/lib/python3.8/site-packages/ipykernel/jsonutil.py\u001b[0m in \u001b[0;36mjson_clean\u001b[0;34m(obj)\u001b[0m\n\u001b[1;32m    189\u001b[0m         \u001b[0mout\u001b[0m \u001b[0;34m=\u001b[0m \u001b[0;34m{\u001b[0m\u001b[0;34m}\u001b[0m\u001b[0;34m\u001b[0m\u001b[0;34m\u001b[0m\u001b[0m\n\u001b[1;32m    190\u001b[0m         \u001b[0;32mfor\u001b[0m \u001b[0mk\u001b[0m\u001b[0;34m,\u001b[0m\u001b[0mv\u001b[0m \u001b[0;32min\u001b[0m \u001b[0miteritems\u001b[0m\u001b[0;34m(\u001b[0m\u001b[0mobj\u001b[0m\u001b[0;34m)\u001b[0m\u001b[0;34m:\u001b[0m\u001b[0;34m\u001b[0m\u001b[0;34m\u001b[0m\u001b[0m\n\u001b[0;32m--> 191\u001b[0;31m             \u001b[0mout\u001b[0m\u001b[0;34m[\u001b[0m\u001b[0municode_type\u001b[0m\u001b[0;34m(\u001b[0m\u001b[0mk\u001b[0m\u001b[0;34m)\u001b[0m\u001b[0;34m]\u001b[0m \u001b[0;34m=\u001b[0m \u001b[0mjson_clean\u001b[0m\u001b[0;34m(\u001b[0m\u001b[0mv\u001b[0m\u001b[0;34m)\u001b[0m\u001b[0;34m\u001b[0m\u001b[0;34m\u001b[0m\u001b[0m\n\u001b[0m\u001b[1;32m    192\u001b[0m         \u001b[0;32mreturn\u001b[0m \u001b[0mout\u001b[0m\u001b[0;34m\u001b[0m\u001b[0;34m\u001b[0m\u001b[0m\n\u001b[1;32m    193\u001b[0m     \u001b[0;32mif\u001b[0m \u001b[0misinstance\u001b[0m\u001b[0;34m(\u001b[0m\u001b[0mobj\u001b[0m\u001b[0;34m,\u001b[0m \u001b[0mdatetime\u001b[0m\u001b[0;34m)\u001b[0m\u001b[0;34m:\u001b[0m\u001b[0;34m\u001b[0m\u001b[0;34m\u001b[0m\u001b[0m\n",
      "\u001b[0;32m~/opt/anaconda3/envs/mortviz/lib/python3.8/site-packages/ipykernel/jsonutil.py\u001b[0m in \u001b[0;36mjson_clean\u001b[0;34m(obj)\u001b[0m\n\u001b[1;32m    189\u001b[0m         \u001b[0mout\u001b[0m \u001b[0;34m=\u001b[0m \u001b[0;34m{\u001b[0m\u001b[0;34m}\u001b[0m\u001b[0;34m\u001b[0m\u001b[0;34m\u001b[0m\u001b[0m\n\u001b[1;32m    190\u001b[0m         \u001b[0;32mfor\u001b[0m \u001b[0mk\u001b[0m\u001b[0;34m,\u001b[0m\u001b[0mv\u001b[0m \u001b[0;32min\u001b[0m \u001b[0miteritems\u001b[0m\u001b[0;34m(\u001b[0m\u001b[0mobj\u001b[0m\u001b[0;34m)\u001b[0m\u001b[0;34m:\u001b[0m\u001b[0;34m\u001b[0m\u001b[0;34m\u001b[0m\u001b[0m\n\u001b[0;32m--> 191\u001b[0;31m             \u001b[0mout\u001b[0m\u001b[0;34m[\u001b[0m\u001b[0municode_type\u001b[0m\u001b[0;34m(\u001b[0m\u001b[0mk\u001b[0m\u001b[0;34m)\u001b[0m\u001b[0;34m]\u001b[0m \u001b[0;34m=\u001b[0m \u001b[0mjson_clean\u001b[0m\u001b[0;34m(\u001b[0m\u001b[0mv\u001b[0m\u001b[0;34m)\u001b[0m\u001b[0;34m\u001b[0m\u001b[0;34m\u001b[0m\u001b[0m\n\u001b[0m\u001b[1;32m    192\u001b[0m         \u001b[0;32mreturn\u001b[0m \u001b[0mout\u001b[0m\u001b[0;34m\u001b[0m\u001b[0;34m\u001b[0m\u001b[0m\n\u001b[1;32m    193\u001b[0m     \u001b[0;32mif\u001b[0m \u001b[0misinstance\u001b[0m\u001b[0;34m(\u001b[0m\u001b[0mobj\u001b[0m\u001b[0;34m,\u001b[0m \u001b[0mdatetime\u001b[0m\u001b[0;34m)\u001b[0m\u001b[0;34m:\u001b[0m\u001b[0;34m\u001b[0m\u001b[0;34m\u001b[0m\u001b[0m\n",
      "\u001b[0;32m~/opt/anaconda3/envs/mortviz/lib/python3.8/site-packages/ipykernel/jsonutil.py\u001b[0m in \u001b[0;36mjson_clean\u001b[0;34m(obj)\u001b[0m\n\u001b[1;32m    189\u001b[0m         \u001b[0mout\u001b[0m \u001b[0;34m=\u001b[0m \u001b[0;34m{\u001b[0m\u001b[0;34m}\u001b[0m\u001b[0;34m\u001b[0m\u001b[0;34m\u001b[0m\u001b[0m\n\u001b[1;32m    190\u001b[0m         \u001b[0;32mfor\u001b[0m \u001b[0mk\u001b[0m\u001b[0;34m,\u001b[0m\u001b[0mv\u001b[0m \u001b[0;32min\u001b[0m \u001b[0miteritems\u001b[0m\u001b[0;34m(\u001b[0m\u001b[0mobj\u001b[0m\u001b[0;34m)\u001b[0m\u001b[0;34m:\u001b[0m\u001b[0;34m\u001b[0m\u001b[0;34m\u001b[0m\u001b[0m\n\u001b[0;32m--> 191\u001b[0;31m             \u001b[0mout\u001b[0m\u001b[0;34m[\u001b[0m\u001b[0municode_type\u001b[0m\u001b[0;34m(\u001b[0m\u001b[0mk\u001b[0m\u001b[0;34m)\u001b[0m\u001b[0;34m]\u001b[0m \u001b[0;34m=\u001b[0m \u001b[0mjson_clean\u001b[0m\u001b[0;34m(\u001b[0m\u001b[0mv\u001b[0m\u001b[0;34m)\u001b[0m\u001b[0;34m\u001b[0m\u001b[0;34m\u001b[0m\u001b[0m\n\u001b[0m\u001b[1;32m    192\u001b[0m         \u001b[0;32mreturn\u001b[0m \u001b[0mout\u001b[0m\u001b[0;34m\u001b[0m\u001b[0;34m\u001b[0m\u001b[0m\n\u001b[1;32m    193\u001b[0m     \u001b[0;32mif\u001b[0m \u001b[0misinstance\u001b[0m\u001b[0;34m(\u001b[0m\u001b[0mobj\u001b[0m\u001b[0;34m,\u001b[0m \u001b[0mdatetime\u001b[0m\u001b[0;34m)\u001b[0m\u001b[0;34m:\u001b[0m\u001b[0;34m\u001b[0m\u001b[0;34m\u001b[0m\u001b[0m\n",
      "\u001b[0;32m~/opt/anaconda3/envs/mortviz/lib/python3.8/site-packages/ipykernel/jsonutil.py\u001b[0m in \u001b[0;36mjson_clean\u001b[0;34m(obj)\u001b[0m\n\u001b[1;32m    189\u001b[0m         \u001b[0mout\u001b[0m \u001b[0;34m=\u001b[0m \u001b[0;34m{\u001b[0m\u001b[0;34m}\u001b[0m\u001b[0;34m\u001b[0m\u001b[0;34m\u001b[0m\u001b[0m\n\u001b[1;32m    190\u001b[0m         \u001b[0;32mfor\u001b[0m \u001b[0mk\u001b[0m\u001b[0;34m,\u001b[0m\u001b[0mv\u001b[0m \u001b[0;32min\u001b[0m \u001b[0miteritems\u001b[0m\u001b[0;34m(\u001b[0m\u001b[0mobj\u001b[0m\u001b[0;34m)\u001b[0m\u001b[0;34m:\u001b[0m\u001b[0;34m\u001b[0m\u001b[0;34m\u001b[0m\u001b[0m\n\u001b[0;32m--> 191\u001b[0;31m             \u001b[0mout\u001b[0m\u001b[0;34m[\u001b[0m\u001b[0municode_type\u001b[0m\u001b[0;34m(\u001b[0m\u001b[0mk\u001b[0m\u001b[0;34m)\u001b[0m\u001b[0;34m]\u001b[0m \u001b[0;34m=\u001b[0m \u001b[0mjson_clean\u001b[0m\u001b[0;34m(\u001b[0m\u001b[0mv\u001b[0m\u001b[0;34m)\u001b[0m\u001b[0;34m\u001b[0m\u001b[0;34m\u001b[0m\u001b[0m\n\u001b[0m\u001b[1;32m    192\u001b[0m         \u001b[0;32mreturn\u001b[0m \u001b[0mout\u001b[0m\u001b[0;34m\u001b[0m\u001b[0;34m\u001b[0m\u001b[0m\n\u001b[1;32m    193\u001b[0m     \u001b[0;32mif\u001b[0m \u001b[0misinstance\u001b[0m\u001b[0;34m(\u001b[0m\u001b[0mobj\u001b[0m\u001b[0;34m,\u001b[0m \u001b[0mdatetime\u001b[0m\u001b[0;34m)\u001b[0m\u001b[0;34m:\u001b[0m\u001b[0;34m\u001b[0m\u001b[0;34m\u001b[0m\u001b[0m\n",
      "\u001b[0;32m~/opt/anaconda3/envs/mortviz/lib/python3.8/site-packages/ipykernel/jsonutil.py\u001b[0m in \u001b[0;36mjson_clean\u001b[0;34m(obj)\u001b[0m\n\u001b[1;32m    175\u001b[0m \u001b[0;34m\u001b[0m\u001b[0m\n\u001b[1;32m    176\u001b[0m     \u001b[0;32mif\u001b[0m \u001b[0misinstance\u001b[0m\u001b[0;34m(\u001b[0m\u001b[0mobj\u001b[0m\u001b[0;34m,\u001b[0m \u001b[0mlist\u001b[0m\u001b[0;34m)\u001b[0m\u001b[0;34m:\u001b[0m\u001b[0;34m\u001b[0m\u001b[0;34m\u001b[0m\u001b[0m\n\u001b[0;32m--> 177\u001b[0;31m         \u001b[0;32mreturn\u001b[0m \u001b[0;34m[\u001b[0m\u001b[0mjson_clean\u001b[0m\u001b[0;34m(\u001b[0m\u001b[0mx\u001b[0m\u001b[0;34m)\u001b[0m \u001b[0;32mfor\u001b[0m \u001b[0mx\u001b[0m \u001b[0;32min\u001b[0m \u001b[0mobj\u001b[0m\u001b[0;34m]\u001b[0m\u001b[0;34m\u001b[0m\u001b[0;34m\u001b[0m\u001b[0m\n\u001b[0m\u001b[1;32m    178\u001b[0m \u001b[0;34m\u001b[0m\u001b[0m\n\u001b[1;32m    179\u001b[0m     \u001b[0;32mif\u001b[0m \u001b[0misinstance\u001b[0m\u001b[0;34m(\u001b[0m\u001b[0mobj\u001b[0m\u001b[0;34m,\u001b[0m \u001b[0mdict\u001b[0m\u001b[0;34m)\u001b[0m\u001b[0;34m:\u001b[0m\u001b[0;34m\u001b[0m\u001b[0;34m\u001b[0m\u001b[0m\n",
      "\u001b[0;32m~/opt/anaconda3/envs/mortviz/lib/python3.8/site-packages/ipykernel/jsonutil.py\u001b[0m in \u001b[0;36m<listcomp>\u001b[0;34m(.0)\u001b[0m\n\u001b[1;32m    175\u001b[0m \u001b[0;34m\u001b[0m\u001b[0m\n\u001b[1;32m    176\u001b[0m     \u001b[0;32mif\u001b[0m \u001b[0misinstance\u001b[0m\u001b[0;34m(\u001b[0m\u001b[0mobj\u001b[0m\u001b[0;34m,\u001b[0m \u001b[0mlist\u001b[0m\u001b[0;34m)\u001b[0m\u001b[0;34m:\u001b[0m\u001b[0;34m\u001b[0m\u001b[0;34m\u001b[0m\u001b[0m\n\u001b[0;32m--> 177\u001b[0;31m         \u001b[0;32mreturn\u001b[0m \u001b[0;34m[\u001b[0m\u001b[0mjson_clean\u001b[0m\u001b[0;34m(\u001b[0m\u001b[0mx\u001b[0m\u001b[0;34m)\u001b[0m \u001b[0;32mfor\u001b[0m \u001b[0mx\u001b[0m \u001b[0;32min\u001b[0m \u001b[0mobj\u001b[0m\u001b[0;34m]\u001b[0m\u001b[0;34m\u001b[0m\u001b[0;34m\u001b[0m\u001b[0m\n\u001b[0m\u001b[1;32m    178\u001b[0m \u001b[0;34m\u001b[0m\u001b[0m\n\u001b[1;32m    179\u001b[0m     \u001b[0;32mif\u001b[0m \u001b[0misinstance\u001b[0m\u001b[0;34m(\u001b[0m\u001b[0mobj\u001b[0m\u001b[0;34m,\u001b[0m \u001b[0mdict\u001b[0m\u001b[0;34m)\u001b[0m\u001b[0;34m:\u001b[0m\u001b[0;34m\u001b[0m\u001b[0;34m\u001b[0m\u001b[0m\n",
      "\u001b[0;32m~/opt/anaconda3/envs/mortviz/lib/python3.8/site-packages/ipykernel/jsonutil.py\u001b[0m in \u001b[0;36mjson_clean\u001b[0;34m(obj)\u001b[0m\n\u001b[1;32m    175\u001b[0m \u001b[0;34m\u001b[0m\u001b[0m\n\u001b[1;32m    176\u001b[0m     \u001b[0;32mif\u001b[0m \u001b[0misinstance\u001b[0m\u001b[0;34m(\u001b[0m\u001b[0mobj\u001b[0m\u001b[0;34m,\u001b[0m \u001b[0mlist\u001b[0m\u001b[0;34m)\u001b[0m\u001b[0;34m:\u001b[0m\u001b[0;34m\u001b[0m\u001b[0;34m\u001b[0m\u001b[0m\n\u001b[0;32m--> 177\u001b[0;31m         \u001b[0;32mreturn\u001b[0m \u001b[0;34m[\u001b[0m\u001b[0mjson_clean\u001b[0m\u001b[0;34m(\u001b[0m\u001b[0mx\u001b[0m\u001b[0;34m)\u001b[0m \u001b[0;32mfor\u001b[0m \u001b[0mx\u001b[0m \u001b[0;32min\u001b[0m \u001b[0mobj\u001b[0m\u001b[0;34m]\u001b[0m\u001b[0;34m\u001b[0m\u001b[0;34m\u001b[0m\u001b[0m\n\u001b[0m\u001b[1;32m    178\u001b[0m \u001b[0;34m\u001b[0m\u001b[0m\n\u001b[1;32m    179\u001b[0m     \u001b[0;32mif\u001b[0m \u001b[0misinstance\u001b[0m\u001b[0;34m(\u001b[0m\u001b[0mobj\u001b[0m\u001b[0;34m,\u001b[0m \u001b[0mdict\u001b[0m\u001b[0;34m)\u001b[0m\u001b[0;34m:\u001b[0m\u001b[0;34m\u001b[0m\u001b[0;34m\u001b[0m\u001b[0m\n",
      "\u001b[0;32m~/opt/anaconda3/envs/mortviz/lib/python3.8/site-packages/ipykernel/jsonutil.py\u001b[0m in \u001b[0;36m<listcomp>\u001b[0;34m(.0)\u001b[0m\n\u001b[1;32m    175\u001b[0m \u001b[0;34m\u001b[0m\u001b[0m\n\u001b[1;32m    176\u001b[0m     \u001b[0;32mif\u001b[0m \u001b[0misinstance\u001b[0m\u001b[0;34m(\u001b[0m\u001b[0mobj\u001b[0m\u001b[0;34m,\u001b[0m \u001b[0mlist\u001b[0m\u001b[0;34m)\u001b[0m\u001b[0;34m:\u001b[0m\u001b[0;34m\u001b[0m\u001b[0;34m\u001b[0m\u001b[0m\n\u001b[0;32m--> 177\u001b[0;31m         \u001b[0;32mreturn\u001b[0m \u001b[0;34m[\u001b[0m\u001b[0mjson_clean\u001b[0m\u001b[0;34m(\u001b[0m\u001b[0mx\u001b[0m\u001b[0;34m)\u001b[0m \u001b[0;32mfor\u001b[0m \u001b[0mx\u001b[0m \u001b[0;32min\u001b[0m \u001b[0mobj\u001b[0m\u001b[0;34m]\u001b[0m\u001b[0;34m\u001b[0m\u001b[0;34m\u001b[0m\u001b[0m\n\u001b[0m\u001b[1;32m    178\u001b[0m \u001b[0;34m\u001b[0m\u001b[0m\n\u001b[1;32m    179\u001b[0m     \u001b[0;32mif\u001b[0m \u001b[0misinstance\u001b[0m\u001b[0;34m(\u001b[0m\u001b[0mobj\u001b[0m\u001b[0;34m,\u001b[0m \u001b[0mdict\u001b[0m\u001b[0;34m)\u001b[0m\u001b[0;34m:\u001b[0m\u001b[0;34m\u001b[0m\u001b[0;34m\u001b[0m\u001b[0m\n",
      "\u001b[0;32m~/opt/anaconda3/envs/mortviz/lib/python3.8/site-packages/ipykernel/jsonutil.py\u001b[0m in \u001b[0;36mjson_clean\u001b[0;34m(obj)\u001b[0m\n\u001b[1;32m    195\u001b[0m \u001b[0;34m\u001b[0m\u001b[0m\n\u001b[1;32m    196\u001b[0m     \u001b[0;31m# we don't understand it, it's probably an unserializable object\u001b[0m\u001b[0;34m\u001b[0m\u001b[0;34m\u001b[0m\u001b[0;34m\u001b[0m\u001b[0m\n\u001b[0;32m--> 197\u001b[0;31m     \u001b[0;32mraise\u001b[0m \u001b[0mValueError\u001b[0m\u001b[0;34m(\u001b[0m\u001b[0;34m\"Can't clean for JSON: %r\"\u001b[0m \u001b[0;34m%\u001b[0m \u001b[0mobj\u001b[0m\u001b[0;34m)\u001b[0m\u001b[0;34m\u001b[0m\u001b[0;34m\u001b[0m\u001b[0m\n\u001b[0m",
      "\u001b[0;31mValueError\u001b[0m: Can't clean for JSON: <shapely.geometry.multipolygon.MultiPolygon object at 0x7ff8b80f5280>"
     ]
    }
   ],
   "source": [
    "kepler_map = KeplerGl(height = 800, data={\"data\": shapefile})\n",
    "# kepler_map = KeplerGl(height = 800, data={\"data\": df}) # DOES NOT WORK\n",
    "kepler_map"
   ]
  },
  {
   "cell_type": "code",
   "execution_count": null,
   "metadata": {},
   "outputs": [],
   "source": [
    "current_config = kepler_map.config\n",
    "current_config"
   ]
  },
  {
   "cell_type": "code",
   "execution_count": null,
   "metadata": {},
   "outputs": [],
   "source": [
    "kepler_map.save_to_html(file_name=”kepler_map.html”)"
   ]
  }
 ]
}