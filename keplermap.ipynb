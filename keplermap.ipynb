{
 "metadata": {
  "language_info": {
   "codemirror_mode": {
    "name": "ipython",
    "version": 3
   },
   "file_extension": ".py",
   "mimetype": "text/x-python",
   "name": "python",
   "nbconvert_exporter": "python",
   "pygments_lexer": "ipython3",
   "version": "3.8.6-final"
  },
  "orig_nbformat": 2,
  "kernelspec": {
   "name": "Python 3.8.6 64-bit ('mortviz': conda)",
   "display_name": "Python 3.8.6 64-bit ('mortviz': conda)",
   "metadata": {
    "interpreter": {
     "hash": "477471722d29a76dc72d179394ab7f8f7300c13c3eef99ae9cff40f919cfc097"
    }
   }
  }
 },
 "nbformat": 4,
 "nbformat_minor": 2,
 "cells": [
  {
   "cell_type": "code",
   "execution_count": 1,
   "metadata": {},
   "outputs": [],
   "source": [
    "import geopandas as gpd\n",
    "import pandas as pd"
   ]
  },
  {
   "source": [
    "Import shape data"
   ],
   "cell_type": "markdown",
   "metadata": {}
  },
  {
   "cell_type": "code",
   "execution_count": 2,
   "metadata": {},
   "outputs": [
    {
     "output_type": "execute_result",
     "data": {
      "text/plain": [
       "      OBJECTID   MSOA2011   BNG_E   BNG_N    LONG      LAT    Shape__Are  \\\n",
       "0            1  E02000001  532384  181355 -0.0935  51.5156  3.226298e+06   \n",
       "1            2  E02000002  548267  189685  0.1388  51.5865  2.064081e+06   \n",
       "2            3  E02000003  548259  188520  0.1381  51.5761  2.226199e+06   \n",
       "3            4  E02000004  551004  186412  0.1768  51.5564  2.599306e+06   \n",
       "4            5  E02000005  548733  186824  0.1443  51.5607  1.221861e+06   \n",
       "...        ...        ...     ...     ...     ...      ...           ...   \n",
       "7196      7197  W02000419  302419  380863 -3.4662  53.3157  2.650026e+06   \n",
       "7197      7198  W02000420  336850  353606 -2.9441  53.0759  7.938553e+07   \n",
       "7198      7199  W02000421  271405  266660 -3.8866  52.2830  7.712008e+08   \n",
       "7199      7200  W02000422  319643  174132 -3.1580  51.4604  4.649973e+06   \n",
       "7200      7201  W02000423  318619  174985 -3.1730  51.4680  1.989467e+06   \n",
       "\n",
       "       Shape__Len                                           geometry  \n",
       "0       7736.3543  MULTIPOLYGON (((-0.08520 51.52030, -0.07850 51...  \n",
       "1       7071.3681  MULTIPOLYGON (((0.14980 51.59700, 0.15110 51.5...  \n",
       "2       7772.5307  MULTIPOLYGON (((0.14840 51.58080, 0.14980 51.5...  \n",
       "3       6982.4123  MULTIPOLYGON (((0.19020 51.55270, 0.18600 51.5...  \n",
       "4       5599.7656  MULTIPOLYGON (((0.15440 51.56610, 0.14790 51.5...  \n",
       "...           ...                                                ...  \n",
       "7196    8351.7644  MULTIPOLYGON (((-3.47950 53.31070, -3.47630 53...  \n",
       "7197   59098.8507  MULTIPOLYGON (((-2.96390 53.13280, -2.94690 53...  \n",
       "7198  168732.6251  MULTIPOLYGON (((-3.73330 52.50660, -3.73030 52...  \n",
       "7199   18715.2692  MULTIPOLYGON (((-3.11920 51.37980, -3.11780 51...  \n",
       "7200   11492.7859  MULTIPOLYGON (((-3.17940 51.46130, -3.17930 51...  \n",
       "\n",
       "[7201 rows x 9 columns]"
      ],
      "text/html": "<div>\n<style scoped>\n    .dataframe tbody tr th:only-of-type {\n        vertical-align: middle;\n    }\n\n    .dataframe tbody tr th {\n        vertical-align: top;\n    }\n\n    .dataframe thead th {\n        text-align: right;\n    }\n</style>\n<table border=\"1\" class=\"dataframe\">\n  <thead>\n    <tr style=\"text-align: right;\">\n      <th></th>\n      <th>OBJECTID</th>\n      <th>MSOA2011</th>\n      <th>BNG_E</th>\n      <th>BNG_N</th>\n      <th>LONG</th>\n      <th>LAT</th>\n      <th>Shape__Are</th>\n      <th>Shape__Len</th>\n      <th>geometry</th>\n    </tr>\n  </thead>\n  <tbody>\n    <tr>\n      <th>0</th>\n      <td>1</td>\n      <td>E02000001</td>\n      <td>532384</td>\n      <td>181355</td>\n      <td>-0.0935</td>\n      <td>51.5156</td>\n      <td>3.226298e+06</td>\n      <td>7736.3543</td>\n      <td>MULTIPOLYGON (((-0.08520 51.52030, -0.07850 51...</td>\n    </tr>\n    <tr>\n      <th>1</th>\n      <td>2</td>\n      <td>E02000002</td>\n      <td>548267</td>\n      <td>189685</td>\n      <td>0.1388</td>\n      <td>51.5865</td>\n      <td>2.064081e+06</td>\n      <td>7071.3681</td>\n      <td>MULTIPOLYGON (((0.14980 51.59700, 0.15110 51.5...</td>\n    </tr>\n    <tr>\n      <th>2</th>\n      <td>3</td>\n      <td>E02000003</td>\n      <td>548259</td>\n      <td>188520</td>\n      <td>0.1381</td>\n      <td>51.5761</td>\n      <td>2.226199e+06</td>\n      <td>7772.5307</td>\n      <td>MULTIPOLYGON (((0.14840 51.58080, 0.14980 51.5...</td>\n    </tr>\n    <tr>\n      <th>3</th>\n      <td>4</td>\n      <td>E02000004</td>\n      <td>551004</td>\n      <td>186412</td>\n      <td>0.1768</td>\n      <td>51.5564</td>\n      <td>2.599306e+06</td>\n      <td>6982.4123</td>\n      <td>MULTIPOLYGON (((0.19020 51.55270, 0.18600 51.5...</td>\n    </tr>\n    <tr>\n      <th>4</th>\n      <td>5</td>\n      <td>E02000005</td>\n      <td>548733</td>\n      <td>186824</td>\n      <td>0.1443</td>\n      <td>51.5607</td>\n      <td>1.221861e+06</td>\n      <td>5599.7656</td>\n      <td>MULTIPOLYGON (((0.15440 51.56610, 0.14790 51.5...</td>\n    </tr>\n    <tr>\n      <th>...</th>\n      <td>...</td>\n      <td>...</td>\n      <td>...</td>\n      <td>...</td>\n      <td>...</td>\n      <td>...</td>\n      <td>...</td>\n      <td>...</td>\n      <td>...</td>\n    </tr>\n    <tr>\n      <th>7196</th>\n      <td>7197</td>\n      <td>W02000419</td>\n      <td>302419</td>\n      <td>380863</td>\n      <td>-3.4662</td>\n      <td>53.3157</td>\n      <td>2.650026e+06</td>\n      <td>8351.7644</td>\n      <td>MULTIPOLYGON (((-3.47950 53.31070, -3.47630 53...</td>\n    </tr>\n    <tr>\n      <th>7197</th>\n      <td>7198</td>\n      <td>W02000420</td>\n      <td>336850</td>\n      <td>353606</td>\n      <td>-2.9441</td>\n      <td>53.0759</td>\n      <td>7.938553e+07</td>\n      <td>59098.8507</td>\n      <td>MULTIPOLYGON (((-2.96390 53.13280, -2.94690 53...</td>\n    </tr>\n    <tr>\n      <th>7198</th>\n      <td>7199</td>\n      <td>W02000421</td>\n      <td>271405</td>\n      <td>266660</td>\n      <td>-3.8866</td>\n      <td>52.2830</td>\n      <td>7.712008e+08</td>\n      <td>168732.6251</td>\n      <td>MULTIPOLYGON (((-3.73330 52.50660, -3.73030 52...</td>\n    </tr>\n    <tr>\n      <th>7199</th>\n      <td>7200</td>\n      <td>W02000422</td>\n      <td>319643</td>\n      <td>174132</td>\n      <td>-3.1580</td>\n      <td>51.4604</td>\n      <td>4.649973e+06</td>\n      <td>18715.2692</td>\n      <td>MULTIPOLYGON (((-3.11920 51.37980, -3.11780 51...</td>\n    </tr>\n    <tr>\n      <th>7200</th>\n      <td>7201</td>\n      <td>W02000423</td>\n      <td>318619</td>\n      <td>174985</td>\n      <td>-3.1730</td>\n      <td>51.4680</td>\n      <td>1.989467e+06</td>\n      <td>11492.7859</td>\n      <td>MULTIPOLYGON (((-3.17940 51.46130, -3.17930 51...</td>\n    </tr>\n  </tbody>\n</table>\n<p>7201 rows × 9 columns</p>\n</div>"
     },
     "metadata": {},
     "execution_count": 2
    }
   ],
   "source": [
    "shapefile = gpd.read_file(\"Data/GIS/MSOA2011_BSC.geojson\")\n",
    "shapefile"
   ]
  },
  {
   "cell_type": "code",
   "execution_count": 3,
   "metadata": {},
   "outputs": [
    {
     "output_type": "execute_result",
     "data": {
      "text/plain": [
       "<Geographic 2D CRS: EPSG:4326>\n",
       "Name: WGS 84\n",
       "Axis Info [ellipsoidal]:\n",
       "- Lat[north]: Geodetic latitude (degree)\n",
       "- Lon[east]: Geodetic longitude (degree)\n",
       "Area of Use:\n",
       "- name: World\n",
       "- bounds: (-180.0, -90.0, 180.0, 90.0)\n",
       "Datum: World Geodetic System 1984\n",
       "- Ellipsoid: WGS 84\n",
       "- Prime Meridian: Greenwich"
      ]
     },
     "metadata": {},
     "execution_count": 3
    }
   ],
   "source": [
    "shapefile.crs"
   ]
  },
  {
   "source": [
    "Import geography lookups and merge"
   ],
   "cell_type": "markdown",
   "metadata": {}
  },
  {
   "cell_type": "code",
   "execution_count": 4,
   "metadata": {},
   "outputs": [],
   "source": [
    "geog = pd.read_csv(\"Data/GIS/LSOA_eng_lookup.csv\")"
   ]
  },
  {
   "cell_type": "code",
   "execution_count": 5,
   "metadata": {},
   "outputs": [],
   "source": [
    "geog = geog[[\"MSOA2011\", \"MSOA2011NM\", \"LAD2020\", \"LAD2020NM\", \"GOR2011\", \"GOR2011NM\", \"CTRY2011\", \"CTRY2011NM\"]]\n",
    "geog = geog[geog[\"GOR2011NM\"] == \"London\"]\n",
    "geog = geog.drop_duplicates()"
   ]
  },
  {
   "cell_type": "code",
   "execution_count": 7,
   "metadata": {},
   "outputs": [
    {
     "output_type": "execute_result",
     "data": {
      "text/plain": [
       "     OBJECTID   MSOA2011   BNG_E   BNG_N    LONG      LAT    Shape__Are  \\\n",
       "0           1  E02000001  532384  181355 -0.0935  51.5156  3.226298e+06   \n",
       "1           2  E02000002  548267  189685  0.1388  51.5865  2.064081e+06   \n",
       "2           3  E02000003  548259  188520  0.1381  51.5761  2.226199e+06   \n",
       "3           4  E02000004  551004  186412  0.1768  51.5564  2.599306e+06   \n",
       "4           5  E02000005  548733  186824  0.1443  51.5607  1.221861e+06   \n",
       "..        ...        ...     ...     ...     ...      ...           ...   \n",
       "978      6784  E02006927  540765  175168  0.0248  51.4580  2.529081e+06   \n",
       "979      6785  E02006928  537902  177443 -0.0155  51.4791  5.439184e+05   \n",
       "980      6786  E02006929  540015  179091  0.0155  51.4934  2.748672e+06   \n",
       "981      6787  E02006930  540126  178333  0.0168  51.4866  7.543926e+05   \n",
       "982      6788  E02006931  538710  177146 -0.0040  51.4763  2.017538e+06   \n",
       "\n",
       "     Shape__Len                                           geometry  \\\n",
       "0     7736.3543  MULTIPOLYGON (((-0.08520 51.52030, -0.07850 51...   \n",
       "1     7071.3681  MULTIPOLYGON (((0.14980 51.59700, 0.15110 51.5...   \n",
       "2     7772.5307  MULTIPOLYGON (((0.14840 51.58080, 0.14980 51.5...   \n",
       "3     6982.4123  MULTIPOLYGON (((0.19020 51.55270, 0.18600 51.5...   \n",
       "4     5599.7656  MULTIPOLYGON (((0.15440 51.56610, 0.14790 51.5...   \n",
       "..          ...                                                ...   \n",
       "978   7172.4036  MULTIPOLYGON (((0.02990 51.46590, 0.02980 51.4...   \n",
       "979   5258.6692  MULTIPOLYGON (((-0.01220 51.47790, -0.02150 51...   \n",
       "980  10872.3611  MULTIPOLYGON (((0.02950 51.49400, 0.03110 51.4...   \n",
       "981   5732.8395  MULTIPOLYGON (((0.02330 51.48470, 0.02020 51.4...   \n",
       "982   7248.8735  MULTIPOLYGON (((-0.00290 51.48250, 0.00140 51....   \n",
       "\n",
       "                   MSOA2011NM    LAD2020             LAD2020NM    GOR2011  \\\n",
       "0          City of London 001  E09000001        City of London  E12000007   \n",
       "1    Barking and Dagenham 001  E09000002  Barking and Dagenham  E12000007   \n",
       "2    Barking and Dagenham 002  E09000002  Barking and Dagenham  E12000007   \n",
       "3    Barking and Dagenham 003  E09000002  Barking and Dagenham  E12000007   \n",
       "4    Barking and Dagenham 004  E09000002  Barking and Dagenham  E12000007   \n",
       "..                        ...        ...                   ...        ...   \n",
       "978             Greenwich 034  E09000011             Greenwich  E12000007   \n",
       "979             Greenwich 035  E09000011             Greenwich  E12000007   \n",
       "980             Greenwich 036  E09000011             Greenwich  E12000007   \n",
       "981             Greenwich 037  E09000011             Greenwich  E12000007   \n",
       "982             Greenwich 038  E09000011             Greenwich  E12000007   \n",
       "\n",
       "    GOR2011NM   CTRY2011 CTRY2011NM  \n",
       "0      London  E92000001    England  \n",
       "1      London  E92000001    England  \n",
       "2      London  E92000001    England  \n",
       "3      London  E92000001    England  \n",
       "4      London  E92000001    England  \n",
       "..        ...        ...        ...  \n",
       "978    London  E92000001    England  \n",
       "979    London  E92000001    England  \n",
       "980    London  E92000001    England  \n",
       "981    London  E92000001    England  \n",
       "982    London  E92000001    England  \n",
       "\n",
       "[983 rows x 16 columns]"
      ],
      "text/html": "<div>\n<style scoped>\n    .dataframe tbody tr th:only-of-type {\n        vertical-align: middle;\n    }\n\n    .dataframe tbody tr th {\n        vertical-align: top;\n    }\n\n    .dataframe thead th {\n        text-align: right;\n    }\n</style>\n<table border=\"1\" class=\"dataframe\">\n  <thead>\n    <tr style=\"text-align: right;\">\n      <th></th>\n      <th>OBJECTID</th>\n      <th>MSOA2011</th>\n      <th>BNG_E</th>\n      <th>BNG_N</th>\n      <th>LONG</th>\n      <th>LAT</th>\n      <th>Shape__Are</th>\n      <th>Shape__Len</th>\n      <th>geometry</th>\n      <th>MSOA2011NM</th>\n      <th>LAD2020</th>\n      <th>LAD2020NM</th>\n      <th>GOR2011</th>\n      <th>GOR2011NM</th>\n      <th>CTRY2011</th>\n      <th>CTRY2011NM</th>\n    </tr>\n  </thead>\n  <tbody>\n    <tr>\n      <th>0</th>\n      <td>1</td>\n      <td>E02000001</td>\n      <td>532384</td>\n      <td>181355</td>\n      <td>-0.0935</td>\n      <td>51.5156</td>\n      <td>3.226298e+06</td>\n      <td>7736.3543</td>\n      <td>MULTIPOLYGON (((-0.08520 51.52030, -0.07850 51...</td>\n      <td>City of London 001</td>\n      <td>E09000001</td>\n      <td>City of London</td>\n      <td>E12000007</td>\n      <td>London</td>\n      <td>E92000001</td>\n      <td>England</td>\n    </tr>\n    <tr>\n      <th>1</th>\n      <td>2</td>\n      <td>E02000002</td>\n      <td>548267</td>\n      <td>189685</td>\n      <td>0.1388</td>\n      <td>51.5865</td>\n      <td>2.064081e+06</td>\n      <td>7071.3681</td>\n      <td>MULTIPOLYGON (((0.14980 51.59700, 0.15110 51.5...</td>\n      <td>Barking and Dagenham 001</td>\n      <td>E09000002</td>\n      <td>Barking and Dagenham</td>\n      <td>E12000007</td>\n      <td>London</td>\n      <td>E92000001</td>\n      <td>England</td>\n    </tr>\n    <tr>\n      <th>2</th>\n      <td>3</td>\n      <td>E02000003</td>\n      <td>548259</td>\n      <td>188520</td>\n      <td>0.1381</td>\n      <td>51.5761</td>\n      <td>2.226199e+06</td>\n      <td>7772.5307</td>\n      <td>MULTIPOLYGON (((0.14840 51.58080, 0.14980 51.5...</td>\n      <td>Barking and Dagenham 002</td>\n      <td>E09000002</td>\n      <td>Barking and Dagenham</td>\n      <td>E12000007</td>\n      <td>London</td>\n      <td>E92000001</td>\n      <td>England</td>\n    </tr>\n    <tr>\n      <th>3</th>\n      <td>4</td>\n      <td>E02000004</td>\n      <td>551004</td>\n      <td>186412</td>\n      <td>0.1768</td>\n      <td>51.5564</td>\n      <td>2.599306e+06</td>\n      <td>6982.4123</td>\n      <td>MULTIPOLYGON (((0.19020 51.55270, 0.18600 51.5...</td>\n      <td>Barking and Dagenham 003</td>\n      <td>E09000002</td>\n      <td>Barking and Dagenham</td>\n      <td>E12000007</td>\n      <td>London</td>\n      <td>E92000001</td>\n      <td>England</td>\n    </tr>\n    <tr>\n      <th>4</th>\n      <td>5</td>\n      <td>E02000005</td>\n      <td>548733</td>\n      <td>186824</td>\n      <td>0.1443</td>\n      <td>51.5607</td>\n      <td>1.221861e+06</td>\n      <td>5599.7656</td>\n      <td>MULTIPOLYGON (((0.15440 51.56610, 0.14790 51.5...</td>\n      <td>Barking and Dagenham 004</td>\n      <td>E09000002</td>\n      <td>Barking and Dagenham</td>\n      <td>E12000007</td>\n      <td>London</td>\n      <td>E92000001</td>\n      <td>England</td>\n    </tr>\n    <tr>\n      <th>...</th>\n      <td>...</td>\n      <td>...</td>\n      <td>...</td>\n      <td>...</td>\n      <td>...</td>\n      <td>...</td>\n      <td>...</td>\n      <td>...</td>\n      <td>...</td>\n      <td>...</td>\n      <td>...</td>\n      <td>...</td>\n      <td>...</td>\n      <td>...</td>\n      <td>...</td>\n      <td>...</td>\n    </tr>\n    <tr>\n      <th>978</th>\n      <td>6784</td>\n      <td>E02006927</td>\n      <td>540765</td>\n      <td>175168</td>\n      <td>0.0248</td>\n      <td>51.4580</td>\n      <td>2.529081e+06</td>\n      <td>7172.4036</td>\n      <td>MULTIPOLYGON (((0.02990 51.46590, 0.02980 51.4...</td>\n      <td>Greenwich 034</td>\n      <td>E09000011</td>\n      <td>Greenwich</td>\n      <td>E12000007</td>\n      <td>London</td>\n      <td>E92000001</td>\n      <td>England</td>\n    </tr>\n    <tr>\n      <th>979</th>\n      <td>6785</td>\n      <td>E02006928</td>\n      <td>537902</td>\n      <td>177443</td>\n      <td>-0.0155</td>\n      <td>51.4791</td>\n      <td>5.439184e+05</td>\n      <td>5258.6692</td>\n      <td>MULTIPOLYGON (((-0.01220 51.47790, -0.02150 51...</td>\n      <td>Greenwich 035</td>\n      <td>E09000011</td>\n      <td>Greenwich</td>\n      <td>E12000007</td>\n      <td>London</td>\n      <td>E92000001</td>\n      <td>England</td>\n    </tr>\n    <tr>\n      <th>980</th>\n      <td>6786</td>\n      <td>E02006929</td>\n      <td>540015</td>\n      <td>179091</td>\n      <td>0.0155</td>\n      <td>51.4934</td>\n      <td>2.748672e+06</td>\n      <td>10872.3611</td>\n      <td>MULTIPOLYGON (((0.02950 51.49400, 0.03110 51.4...</td>\n      <td>Greenwich 036</td>\n      <td>E09000011</td>\n      <td>Greenwich</td>\n      <td>E12000007</td>\n      <td>London</td>\n      <td>E92000001</td>\n      <td>England</td>\n    </tr>\n    <tr>\n      <th>981</th>\n      <td>6787</td>\n      <td>E02006930</td>\n      <td>540126</td>\n      <td>178333</td>\n      <td>0.0168</td>\n      <td>51.4866</td>\n      <td>7.543926e+05</td>\n      <td>5732.8395</td>\n      <td>MULTIPOLYGON (((0.02330 51.48470, 0.02020 51.4...</td>\n      <td>Greenwich 037</td>\n      <td>E09000011</td>\n      <td>Greenwich</td>\n      <td>E12000007</td>\n      <td>London</td>\n      <td>E92000001</td>\n      <td>England</td>\n    </tr>\n    <tr>\n      <th>982</th>\n      <td>6788</td>\n      <td>E02006931</td>\n      <td>538710</td>\n      <td>177146</td>\n      <td>-0.0040</td>\n      <td>51.4763</td>\n      <td>2.017538e+06</td>\n      <td>7248.8735</td>\n      <td>MULTIPOLYGON (((-0.00290 51.48250, 0.00140 51....</td>\n      <td>Greenwich 038</td>\n      <td>E09000011</td>\n      <td>Greenwich</td>\n      <td>E12000007</td>\n      <td>London</td>\n      <td>E92000001</td>\n      <td>England</td>\n    </tr>\n  </tbody>\n</table>\n<p>983 rows × 16 columns</p>\n</div>"
     },
     "metadata": {},
     "execution_count": 7
    }
   ],
   "source": [
    "df = shapefile.merge(geog)\n",
    "df"
   ]
  },
  {
   "source": [
    "Import samples, get median and 95% confidence intervals"
   ],
   "cell_type": "markdown",
   "metadata": {}
  },
  {
   "cell_type": "code",
   "execution_count": 9,
   "metadata": {},
   "outputs": [],
   "source": [
    "samples = pd.read_csv(\"Data/samples/MSOAnested1_T_e0_samples.csv\")"
   ]
  },
  {
   "cell_type": "code",
   "execution_count": 11,
   "metadata": {},
   "outputs": [
    {
     "output_type": "execute_result",
     "data": {
      "text/plain": [
       "(983, 16)"
      ]
     },
     "metadata": {},
     "execution_count": 11
    }
   ],
   "source": [
    "samples[\"MSOA2011\"].nunique(), samples[\"YEAR\"].nunique()"
   ]
  },
  {
   "cell_type": "code",
   "execution_count": 14,
   "metadata": {},
   "outputs": [
    {
     "output_type": "execute_result",
     "data": {
      "text/plain": [
       "        MSOA2011  YEAR\n",
       "0      E02000001  2002\n",
       "1      E02000001  2003\n",
       "2      E02000001  2004\n",
       "3      E02000001  2005\n",
       "4      E02000001  2006\n",
       "...          ...   ...\n",
       "15723  E02006931  2013\n",
       "15724  E02006931  2014\n",
       "15725  E02006931  2015\n",
       "15726  E02006931  2016\n",
       "15727  E02006931  2017\n",
       "\n",
       "[15728 rows x 2 columns]"
      ],
      "text/html": "<div>\n<style scoped>\n    .dataframe tbody tr th:only-of-type {\n        vertical-align: middle;\n    }\n\n    .dataframe tbody tr th {\n        vertical-align: top;\n    }\n\n    .dataframe thead th {\n        text-align: right;\n    }\n</style>\n<table border=\"1\" class=\"dataframe\">\n  <thead>\n    <tr style=\"text-align: right;\">\n      <th></th>\n      <th>MSOA2011</th>\n      <th>YEAR</th>\n    </tr>\n  </thead>\n  <tbody>\n    <tr>\n      <th>0</th>\n      <td>E02000001</td>\n      <td>2002</td>\n    </tr>\n    <tr>\n      <th>1</th>\n      <td>E02000001</td>\n      <td>2003</td>\n    </tr>\n    <tr>\n      <th>2</th>\n      <td>E02000001</td>\n      <td>2004</td>\n    </tr>\n    <tr>\n      <th>3</th>\n      <td>E02000001</td>\n      <td>2005</td>\n    </tr>\n    <tr>\n      <th>4</th>\n      <td>E02000001</td>\n      <td>2006</td>\n    </tr>\n    <tr>\n      <th>...</th>\n      <td>...</td>\n      <td>...</td>\n    </tr>\n    <tr>\n      <th>15723</th>\n      <td>E02006931</td>\n      <td>2013</td>\n    </tr>\n    <tr>\n      <th>15724</th>\n      <td>E02006931</td>\n      <td>2014</td>\n    </tr>\n    <tr>\n      <th>15725</th>\n      <td>E02006931</td>\n      <td>2015</td>\n    </tr>\n    <tr>\n      <th>15726</th>\n      <td>E02006931</td>\n      <td>2016</td>\n    </tr>\n    <tr>\n      <th>15727</th>\n      <td>E02006931</td>\n      <td>2017</td>\n    </tr>\n  </tbody>\n</table>\n<p>15728 rows × 2 columns</p>\n</div>"
     },
     "metadata": {},
     "execution_count": 14
    }
   ],
   "source": [
    "strata = samples[samples.columns[1:5]]\n",
    "strata = strata[[\"MSOA2011\", \"YEAR\"]]\n",
    "strata"
   ]
  },
  {
   "cell_type": "code",
   "execution_count": 16,
   "metadata": {},
   "outputs": [],
   "source": [
    "samples = samples[samples.columns[5:]]"
   ]
  },
  {
   "cell_type": "code",
   "execution_count": 17,
   "metadata": {},
   "outputs": [],
   "source": [
    "strata[\"e0 (median)\"] = samples.median(axis = 1)\n",
    "strata[\"lower (95% CI)\"] = samples.quantile(q = 0.025, axis = 1)\n",
    "strata[\"upper (95% CI)\"] = samples.quantile(q = 0.975, axis = 1)"
   ]
  },
  {
   "cell_type": "code",
   "execution_count": 18,
   "metadata": {},
   "outputs": [],
   "source": [
    "strata[\"YEAR\"] = pd.to_datetime(strata[\"YEAR\"], format = \"%Y\") # convert to datetime"
   ]
  },
  {
   "cell_type": "code",
   "execution_count": 19,
   "metadata": {},
   "outputs": [
    {
     "output_type": "execute_result",
     "data": {
      "text/plain": [
       "        MSOA2011       YEAR  e0 (median)  lower (95% CI)  upper (95% CI)\n",
       "0      E02000001 2002-01-01        80.24           78.41           82.14\n",
       "1      E02000001 2003-01-01        80.46           78.72           82.22\n",
       "2      E02000001 2004-01-01        81.39           79.72           83.01\n",
       "3      E02000001 2005-01-01        81.79           80.23           83.32\n",
       "4      E02000001 2006-01-01        82.47           81.02           84.04\n",
       "...          ...        ...          ...             ...             ...\n",
       "15723  E02006931 2013-01-01        79.65           78.44           80.95\n",
       "15724  E02006931 2014-01-01        80.01           78.80           81.42\n",
       "15725  E02006931 2015-01-01        79.86           78.57           81.34\n",
       "15726  E02006931 2016-01-01        80.34           78.97           81.94\n",
       "15727  E02006931 2017-01-01        80.63           79.20           82.33\n",
       "\n",
       "[15728 rows x 5 columns]"
      ],
      "text/html": "<div>\n<style scoped>\n    .dataframe tbody tr th:only-of-type {\n        vertical-align: middle;\n    }\n\n    .dataframe tbody tr th {\n        vertical-align: top;\n    }\n\n    .dataframe thead th {\n        text-align: right;\n    }\n</style>\n<table border=\"1\" class=\"dataframe\">\n  <thead>\n    <tr style=\"text-align: right;\">\n      <th></th>\n      <th>MSOA2011</th>\n      <th>YEAR</th>\n      <th>e0 (median)</th>\n      <th>lower (95% CI)</th>\n      <th>upper (95% CI)</th>\n    </tr>\n  </thead>\n  <tbody>\n    <tr>\n      <th>0</th>\n      <td>E02000001</td>\n      <td>2002-01-01</td>\n      <td>80.24</td>\n      <td>78.41</td>\n      <td>82.14</td>\n    </tr>\n    <tr>\n      <th>1</th>\n      <td>E02000001</td>\n      <td>2003-01-01</td>\n      <td>80.46</td>\n      <td>78.72</td>\n      <td>82.22</td>\n    </tr>\n    <tr>\n      <th>2</th>\n      <td>E02000001</td>\n      <td>2004-01-01</td>\n      <td>81.39</td>\n      <td>79.72</td>\n      <td>83.01</td>\n    </tr>\n    <tr>\n      <th>3</th>\n      <td>E02000001</td>\n      <td>2005-01-01</td>\n      <td>81.79</td>\n      <td>80.23</td>\n      <td>83.32</td>\n    </tr>\n    <tr>\n      <th>4</th>\n      <td>E02000001</td>\n      <td>2006-01-01</td>\n      <td>82.47</td>\n      <td>81.02</td>\n      <td>84.04</td>\n    </tr>\n    <tr>\n      <th>...</th>\n      <td>...</td>\n      <td>...</td>\n      <td>...</td>\n      <td>...</td>\n      <td>...</td>\n    </tr>\n    <tr>\n      <th>15723</th>\n      <td>E02006931</td>\n      <td>2013-01-01</td>\n      <td>79.65</td>\n      <td>78.44</td>\n      <td>80.95</td>\n    </tr>\n    <tr>\n      <th>15724</th>\n      <td>E02006931</td>\n      <td>2014-01-01</td>\n      <td>80.01</td>\n      <td>78.80</td>\n      <td>81.42</td>\n    </tr>\n    <tr>\n      <th>15725</th>\n      <td>E02006931</td>\n      <td>2015-01-01</td>\n      <td>79.86</td>\n      <td>78.57</td>\n      <td>81.34</td>\n    </tr>\n    <tr>\n      <th>15726</th>\n      <td>E02006931</td>\n      <td>2016-01-01</td>\n      <td>80.34</td>\n      <td>78.97</td>\n      <td>81.94</td>\n    </tr>\n    <tr>\n      <th>15727</th>\n      <td>E02006931</td>\n      <td>2017-01-01</td>\n      <td>80.63</td>\n      <td>79.20</td>\n      <td>82.33</td>\n    </tr>\n  </tbody>\n</table>\n<p>15728 rows × 5 columns</p>\n</div>"
     },
     "metadata": {},
     "execution_count": 19
    }
   ],
   "source": [
    "strata = strata.round({\n",
    "    \"e0 (median)\": 2,\n",
    "    \"lower (95% CI)\": 2,\n",
    "    \"upper (95% CI)\": 2\n",
    "    })\n",
    "strata"
   ]
  },
  {
   "source": [
    "Merge with full ONS geography information"
   ],
   "cell_type": "markdown",
   "metadata": {}
  },
  {
   "cell_type": "code",
   "execution_count": 20,
   "metadata": {},
   "outputs": [
    {
     "output_type": "execute_result",
     "data": {
      "text/plain": [
       "       OBJECTID   MSOA2011   BNG_E   BNG_N    LONG      LAT    Shape__Are  \\\n",
       "0             1  E02000001  532384  181355 -0.0935  51.5156  3.226298e+06   \n",
       "1             1  E02000001  532384  181355 -0.0935  51.5156  3.226298e+06   \n",
       "2             1  E02000001  532384  181355 -0.0935  51.5156  3.226298e+06   \n",
       "3             1  E02000001  532384  181355 -0.0935  51.5156  3.226298e+06   \n",
       "4             1  E02000001  532384  181355 -0.0935  51.5156  3.226298e+06   \n",
       "...         ...        ...     ...     ...     ...      ...           ...   \n",
       "15723      6788  E02006931  538710  177146 -0.0040  51.4763  2.017538e+06   \n",
       "15724      6788  E02006931  538710  177146 -0.0040  51.4763  2.017538e+06   \n",
       "15725      6788  E02006931  538710  177146 -0.0040  51.4763  2.017538e+06   \n",
       "15726      6788  E02006931  538710  177146 -0.0040  51.4763  2.017538e+06   \n",
       "15727      6788  E02006931  538710  177146 -0.0040  51.4763  2.017538e+06   \n",
       "\n",
       "       Shape__Len                                           geometry  \\\n",
       "0       7736.3543  MULTIPOLYGON (((-0.08520 51.52030, -0.07850 51...   \n",
       "1       7736.3543  MULTIPOLYGON (((-0.08520 51.52030, -0.07850 51...   \n",
       "2       7736.3543  MULTIPOLYGON (((-0.08520 51.52030, -0.07850 51...   \n",
       "3       7736.3543  MULTIPOLYGON (((-0.08520 51.52030, -0.07850 51...   \n",
       "4       7736.3543  MULTIPOLYGON (((-0.08520 51.52030, -0.07850 51...   \n",
       "...           ...                                                ...   \n",
       "15723   7248.8735  MULTIPOLYGON (((-0.00290 51.48250, 0.00140 51....   \n",
       "15724   7248.8735  MULTIPOLYGON (((-0.00290 51.48250, 0.00140 51....   \n",
       "15725   7248.8735  MULTIPOLYGON (((-0.00290 51.48250, 0.00140 51....   \n",
       "15726   7248.8735  MULTIPOLYGON (((-0.00290 51.48250, 0.00140 51....   \n",
       "15727   7248.8735  MULTIPOLYGON (((-0.00290 51.48250, 0.00140 51....   \n",
       "\n",
       "               MSOA2011NM    LAD2020       LAD2020NM    GOR2011 GOR2011NM  \\\n",
       "0      City of London 001  E09000001  City of London  E12000007    London   \n",
       "1      City of London 001  E09000001  City of London  E12000007    London   \n",
       "2      City of London 001  E09000001  City of London  E12000007    London   \n",
       "3      City of London 001  E09000001  City of London  E12000007    London   \n",
       "4      City of London 001  E09000001  City of London  E12000007    London   \n",
       "...                   ...        ...             ...        ...       ...   \n",
       "15723       Greenwich 038  E09000011       Greenwich  E12000007    London   \n",
       "15724       Greenwich 038  E09000011       Greenwich  E12000007    London   \n",
       "15725       Greenwich 038  E09000011       Greenwich  E12000007    London   \n",
       "15726       Greenwich 038  E09000011       Greenwich  E12000007    London   \n",
       "15727       Greenwich 038  E09000011       Greenwich  E12000007    London   \n",
       "\n",
       "        CTRY2011 CTRY2011NM       YEAR  e0 (median)  lower (95% CI)  \\\n",
       "0      E92000001    England 2002-01-01        80.24           78.41   \n",
       "1      E92000001    England 2003-01-01        80.46           78.72   \n",
       "2      E92000001    England 2004-01-01        81.39           79.72   \n",
       "3      E92000001    England 2005-01-01        81.79           80.23   \n",
       "4      E92000001    England 2006-01-01        82.47           81.02   \n",
       "...          ...        ...        ...          ...             ...   \n",
       "15723  E92000001    England 2013-01-01        79.65           78.44   \n",
       "15724  E92000001    England 2014-01-01        80.01           78.80   \n",
       "15725  E92000001    England 2015-01-01        79.86           78.57   \n",
       "15726  E92000001    England 2016-01-01        80.34           78.97   \n",
       "15727  E92000001    England 2017-01-01        80.63           79.20   \n",
       "\n",
       "       upper (95% CI)  \n",
       "0               82.14  \n",
       "1               82.22  \n",
       "2               83.01  \n",
       "3               83.32  \n",
       "4               84.04  \n",
       "...               ...  \n",
       "15723           80.95  \n",
       "15724           81.42  \n",
       "15725           81.34  \n",
       "15726           81.94  \n",
       "15727           82.33  \n",
       "\n",
       "[15728 rows x 20 columns]"
      ],
      "text/html": "<div>\n<style scoped>\n    .dataframe tbody tr th:only-of-type {\n        vertical-align: middle;\n    }\n\n    .dataframe tbody tr th {\n        vertical-align: top;\n    }\n\n    .dataframe thead th {\n        text-align: right;\n    }\n</style>\n<table border=\"1\" class=\"dataframe\">\n  <thead>\n    <tr style=\"text-align: right;\">\n      <th></th>\n      <th>OBJECTID</th>\n      <th>MSOA2011</th>\n      <th>BNG_E</th>\n      <th>BNG_N</th>\n      <th>LONG</th>\n      <th>LAT</th>\n      <th>Shape__Are</th>\n      <th>Shape__Len</th>\n      <th>geometry</th>\n      <th>MSOA2011NM</th>\n      <th>LAD2020</th>\n      <th>LAD2020NM</th>\n      <th>GOR2011</th>\n      <th>GOR2011NM</th>\n      <th>CTRY2011</th>\n      <th>CTRY2011NM</th>\n      <th>YEAR</th>\n      <th>e0 (median)</th>\n      <th>lower (95% CI)</th>\n      <th>upper (95% CI)</th>\n    </tr>\n  </thead>\n  <tbody>\n    <tr>\n      <th>0</th>\n      <td>1</td>\n      <td>E02000001</td>\n      <td>532384</td>\n      <td>181355</td>\n      <td>-0.0935</td>\n      <td>51.5156</td>\n      <td>3.226298e+06</td>\n      <td>7736.3543</td>\n      <td>MULTIPOLYGON (((-0.08520 51.52030, -0.07850 51...</td>\n      <td>City of London 001</td>\n      <td>E09000001</td>\n      <td>City of London</td>\n      <td>E12000007</td>\n      <td>London</td>\n      <td>E92000001</td>\n      <td>England</td>\n      <td>2002-01-01</td>\n      <td>80.24</td>\n      <td>78.41</td>\n      <td>82.14</td>\n    </tr>\n    <tr>\n      <th>1</th>\n      <td>1</td>\n      <td>E02000001</td>\n      <td>532384</td>\n      <td>181355</td>\n      <td>-0.0935</td>\n      <td>51.5156</td>\n      <td>3.226298e+06</td>\n      <td>7736.3543</td>\n      <td>MULTIPOLYGON (((-0.08520 51.52030, -0.07850 51...</td>\n      <td>City of London 001</td>\n      <td>E09000001</td>\n      <td>City of London</td>\n      <td>E12000007</td>\n      <td>London</td>\n      <td>E92000001</td>\n      <td>England</td>\n      <td>2003-01-01</td>\n      <td>80.46</td>\n      <td>78.72</td>\n      <td>82.22</td>\n    </tr>\n    <tr>\n      <th>2</th>\n      <td>1</td>\n      <td>E02000001</td>\n      <td>532384</td>\n      <td>181355</td>\n      <td>-0.0935</td>\n      <td>51.5156</td>\n      <td>3.226298e+06</td>\n      <td>7736.3543</td>\n      <td>MULTIPOLYGON (((-0.08520 51.52030, -0.07850 51...</td>\n      <td>City of London 001</td>\n      <td>E09000001</td>\n      <td>City of London</td>\n      <td>E12000007</td>\n      <td>London</td>\n      <td>E92000001</td>\n      <td>England</td>\n      <td>2004-01-01</td>\n      <td>81.39</td>\n      <td>79.72</td>\n      <td>83.01</td>\n    </tr>\n    <tr>\n      <th>3</th>\n      <td>1</td>\n      <td>E02000001</td>\n      <td>532384</td>\n      <td>181355</td>\n      <td>-0.0935</td>\n      <td>51.5156</td>\n      <td>3.226298e+06</td>\n      <td>7736.3543</td>\n      <td>MULTIPOLYGON (((-0.08520 51.52030, -0.07850 51...</td>\n      <td>City of London 001</td>\n      <td>E09000001</td>\n      <td>City of London</td>\n      <td>E12000007</td>\n      <td>London</td>\n      <td>E92000001</td>\n      <td>England</td>\n      <td>2005-01-01</td>\n      <td>81.79</td>\n      <td>80.23</td>\n      <td>83.32</td>\n    </tr>\n    <tr>\n      <th>4</th>\n      <td>1</td>\n      <td>E02000001</td>\n      <td>532384</td>\n      <td>181355</td>\n      <td>-0.0935</td>\n      <td>51.5156</td>\n      <td>3.226298e+06</td>\n      <td>7736.3543</td>\n      <td>MULTIPOLYGON (((-0.08520 51.52030, -0.07850 51...</td>\n      <td>City of London 001</td>\n      <td>E09000001</td>\n      <td>City of London</td>\n      <td>E12000007</td>\n      <td>London</td>\n      <td>E92000001</td>\n      <td>England</td>\n      <td>2006-01-01</td>\n      <td>82.47</td>\n      <td>81.02</td>\n      <td>84.04</td>\n    </tr>\n    <tr>\n      <th>...</th>\n      <td>...</td>\n      <td>...</td>\n      <td>...</td>\n      <td>...</td>\n      <td>...</td>\n      <td>...</td>\n      <td>...</td>\n      <td>...</td>\n      <td>...</td>\n      <td>...</td>\n      <td>...</td>\n      <td>...</td>\n      <td>...</td>\n      <td>...</td>\n      <td>...</td>\n      <td>...</td>\n      <td>...</td>\n      <td>...</td>\n      <td>...</td>\n      <td>...</td>\n    </tr>\n    <tr>\n      <th>15723</th>\n      <td>6788</td>\n      <td>E02006931</td>\n      <td>538710</td>\n      <td>177146</td>\n      <td>-0.0040</td>\n      <td>51.4763</td>\n      <td>2.017538e+06</td>\n      <td>7248.8735</td>\n      <td>MULTIPOLYGON (((-0.00290 51.48250, 0.00140 51....</td>\n      <td>Greenwich 038</td>\n      <td>E09000011</td>\n      <td>Greenwich</td>\n      <td>E12000007</td>\n      <td>London</td>\n      <td>E92000001</td>\n      <td>England</td>\n      <td>2013-01-01</td>\n      <td>79.65</td>\n      <td>78.44</td>\n      <td>80.95</td>\n    </tr>\n    <tr>\n      <th>15724</th>\n      <td>6788</td>\n      <td>E02006931</td>\n      <td>538710</td>\n      <td>177146</td>\n      <td>-0.0040</td>\n      <td>51.4763</td>\n      <td>2.017538e+06</td>\n      <td>7248.8735</td>\n      <td>MULTIPOLYGON (((-0.00290 51.48250, 0.00140 51....</td>\n      <td>Greenwich 038</td>\n      <td>E09000011</td>\n      <td>Greenwich</td>\n      <td>E12000007</td>\n      <td>London</td>\n      <td>E92000001</td>\n      <td>England</td>\n      <td>2014-01-01</td>\n      <td>80.01</td>\n      <td>78.80</td>\n      <td>81.42</td>\n    </tr>\n    <tr>\n      <th>15725</th>\n      <td>6788</td>\n      <td>E02006931</td>\n      <td>538710</td>\n      <td>177146</td>\n      <td>-0.0040</td>\n      <td>51.4763</td>\n      <td>2.017538e+06</td>\n      <td>7248.8735</td>\n      <td>MULTIPOLYGON (((-0.00290 51.48250, 0.00140 51....</td>\n      <td>Greenwich 038</td>\n      <td>E09000011</td>\n      <td>Greenwich</td>\n      <td>E12000007</td>\n      <td>London</td>\n      <td>E92000001</td>\n      <td>England</td>\n      <td>2015-01-01</td>\n      <td>79.86</td>\n      <td>78.57</td>\n      <td>81.34</td>\n    </tr>\n    <tr>\n      <th>15726</th>\n      <td>6788</td>\n      <td>E02006931</td>\n      <td>538710</td>\n      <td>177146</td>\n      <td>-0.0040</td>\n      <td>51.4763</td>\n      <td>2.017538e+06</td>\n      <td>7248.8735</td>\n      <td>MULTIPOLYGON (((-0.00290 51.48250, 0.00140 51....</td>\n      <td>Greenwich 038</td>\n      <td>E09000011</td>\n      <td>Greenwich</td>\n      <td>E12000007</td>\n      <td>London</td>\n      <td>E92000001</td>\n      <td>England</td>\n      <td>2016-01-01</td>\n      <td>80.34</td>\n      <td>78.97</td>\n      <td>81.94</td>\n    </tr>\n    <tr>\n      <th>15727</th>\n      <td>6788</td>\n      <td>E02006931</td>\n      <td>538710</td>\n      <td>177146</td>\n      <td>-0.0040</td>\n      <td>51.4763</td>\n      <td>2.017538e+06</td>\n      <td>7248.8735</td>\n      <td>MULTIPOLYGON (((-0.00290 51.48250, 0.00140 51....</td>\n      <td>Greenwich 038</td>\n      <td>E09000011</td>\n      <td>Greenwich</td>\n      <td>E12000007</td>\n      <td>London</td>\n      <td>E92000001</td>\n      <td>England</td>\n      <td>2017-01-01</td>\n      <td>80.63</td>\n      <td>79.20</td>\n      <td>82.33</td>\n    </tr>\n  </tbody>\n</table>\n<p>15728 rows × 20 columns</p>\n</div>"
     },
     "metadata": {},
     "execution_count": 20
    }
   ],
   "source": [
    "df = df.merge(strata)\n",
    "df"
   ]
  },
  {
   "cell_type": "code",
   "execution_count": 21,
   "metadata": {},
   "outputs": [
    {
     "output_type": "execute_result",
     "data": {
      "text/plain": [
       "OBJECTID                   int64\n",
       "MSOA2011                  object\n",
       "BNG_E                      int64\n",
       "BNG_N                      int64\n",
       "LONG                     float64\n",
       "LAT                      float64\n",
       "Shape__Are               float64\n",
       "Shape__Len               float64\n",
       "geometry                geometry\n",
       "MSOA2011NM                object\n",
       "LAD2020                   object\n",
       "LAD2020NM                 object\n",
       "GOR2011                   object\n",
       "GOR2011NM                 object\n",
       "CTRY2011                  object\n",
       "CTRY2011NM                object\n",
       "YEAR              datetime64[ns]\n",
       "e0 (median)              float64\n",
       "lower (95% CI)           float64\n",
       "upper (95% CI)           float64\n",
       "dtype: object"
      ]
     },
     "metadata": {},
     "execution_count": 21
    }
   ],
   "source": [
    "df.dtypes"
   ]
  },
  {
   "cell_type": "code",
   "execution_count": 22,
   "metadata": {},
   "outputs": [],
   "source": [
    "# df.to_file(\"tmp.geojson\", driver='GeoJSON')"
   ]
  },
  {
   "cell_type": "code",
   "execution_count": 18,
   "metadata": {},
   "outputs": [],
   "source": [
    "from keplergl import KeplerGl"
   ]
  },
  {
   "cell_type": "code",
   "execution_count": 19,
   "metadata": {},
   "outputs": [
    {
     "output_type": "stream",
     "name": "stdout",
     "text": [
      "User Guide: https://docs.kepler.gl/docs/keplergl-jupyter\n"
     ]
    },
    {
     "output_type": "display_data",
     "data": {
      "text/plain": "KeplerGl(data={'life expectancy':         OBJECTID   MSOA2011   BNG_E   BNG_N    LONG      LAT    Shape__Are  …",
      "application/vnd.jupyter.widget-view+json": {
       "version_major": 2,
       "version_minor": 0,
       "model_id": "fa61a2c7f7614dcf99b6822b6727bc2e"
      }
     },
     "metadata": {}
    }
   ],
   "source": [
    "kepler_map = KeplerGl(height = 800, data={\"life expectancy\": df})\n",
    "kepler_map"
   ]
  },
  {
   "cell_type": "code",
   "execution_count": 20,
   "metadata": {},
   "outputs": [
    {
     "output_type": "execute_result",
     "data": {
      "text/plain": [
       "{'version': 'v1',\n",
       " 'config': {'visState': {'filters': [{'dataId': ['life expectancy'],\n",
       "     'id': 'zos6oumwl',\n",
       "     'name': ['YEAR'],\n",
       "     'type': 'timeRange',\n",
       "     'value': [1065071520000, 1099709491000],\n",
       "     'enlarged': True,\n",
       "     'plotType': 'histogram',\n",
       "     'yAxis': None}],\n",
       "   'layers': [{'id': '3pb8lw5',\n",
       "     'type': 'geojson',\n",
       "     'config': {'dataId': 'life expectancy',\n",
       "      'label': 'life expectancy',\n",
       "      'color': [18, 147, 154],\n",
       "      'columns': {'geojson': 'geometry'},\n",
       "      'isVisible': True,\n",
       "      'visConfig': {'opacity': 0.6,\n",
       "       'strokeOpacity': 0.8,\n",
       "       'thickness': 0.1,\n",
       "       'strokeColor': [147, 147, 147],\n",
       "       'colorRange': {'name': 'ColorBrewer RdBu-10',\n",
       "        'type': 'diverging',\n",
       "        'category': 'ColorBrewer',\n",
       "        'colors': ['#67001f',\n",
       "         '#b2182b',\n",
       "         '#d6604d',\n",
       "         '#f4a582',\n",
       "         '#fddbc7',\n",
       "         '#d1e5f0',\n",
       "         '#92c5de',\n",
       "         '#4393c3',\n",
       "         '#2166ac',\n",
       "         '#053061']},\n",
       "       'strokeColorRange': {'name': 'Global Warming',\n",
       "        'type': 'sequential',\n",
       "        'category': 'Uber',\n",
       "        'colors': ['#5A1846',\n",
       "         '#900C3F',\n",
       "         '#C70039',\n",
       "         '#E3611C',\n",
       "         '#F1920E',\n",
       "         '#FFC300']},\n",
       "       'radius': 10,\n",
       "       'sizeRange': [0, 10],\n",
       "       'radiusRange': [0, 50],\n",
       "       'heightRange': [0, 500],\n",
       "       'elevationScale': 5,\n",
       "       'stroked': True,\n",
       "       'filled': True,\n",
       "       'enable3d': False,\n",
       "       'wireframe': False},\n",
       "      'hidden': False,\n",
       "      'textLabel': [{'field': None,\n",
       "        'color': [255, 255, 255],\n",
       "        'size': 18,\n",
       "        'offset': [0, 0],\n",
       "        'anchor': 'start',\n",
       "        'alignment': 'center'}]},\n",
       "     'visualChannels': {'colorField': {'name': 'e0 (median)', 'type': 'real'},\n",
       "      'colorScale': 'quantize',\n",
       "      'sizeField': None,\n",
       "      'sizeScale': 'linear',\n",
       "      'strokeColorField': None,\n",
       "      'strokeColorScale': 'quantile',\n",
       "      'heightField': None,\n",
       "      'heightScale': 'linear',\n",
       "      'radiusField': None,\n",
       "      'radiusScale': 'linear'}}],\n",
       "   'interactionConfig': {'tooltip': {'fieldsToShow': {'life expectancy': [{'name': 'MSOA2011',\n",
       "        'format': None},\n",
       "       {'name': 'LAD2020NM', 'format': None},\n",
       "       {'name': 'GOR2011NM', 'format': None},\n",
       "       {'name': 'YEAR', 'format': None},\n",
       "       {'name': 'e0 (median)', 'format': None},\n",
       "       {'name': 'lower (95% CI)', 'format': None},\n",
       "       {'name': 'upper (95% CI)', 'format': None}]},\n",
       "     'compareMode': False,\n",
       "     'compareType': 'absolute',\n",
       "     'enabled': True},\n",
       "    'brush': {'size': 0.5, 'enabled': False},\n",
       "    'geocoder': {'enabled': True},\n",
       "    'coordinate': {'enabled': False}},\n",
       "   'layerBlending': 'normal',\n",
       "   'splitMaps': [],\n",
       "   'animationConfig': {'currentTime': None, 'speed': 1}},\n",
       "  'mapState': {'bearing': 0,\n",
       "   'dragRotate': False,\n",
       "   'latitude': 52.90765621433159,\n",
       "   'longitude': 0.30906240971367205,\n",
       "   'pitch': 0,\n",
       "   'zoom': 6.031407974627302,\n",
       "   'isSplit': False},\n",
       "  'mapStyle': {'styleType': 'dark',\n",
       "   'topLayerGroups': {},\n",
       "   'visibleLayerGroups': {'label': True,\n",
       "    'road': True,\n",
       "    'border': False,\n",
       "    'building': False,\n",
       "    'water': True,\n",
       "    'land': True,\n",
       "    '3d building': False},\n",
       "   'threeDBuildingColor': [9.665468314072013,\n",
       "    17.18305478057247,\n",
       "    31.1442867897876],\n",
       "   'mapStyles': {}}}}"
      ]
     },
     "metadata": {},
     "execution_count": 20
    }
   ],
   "source": [
    "current_config = kepler_map.config\n",
    "current_config"
   ]
  },
  {
   "cell_type": "code",
   "execution_count": 21,
   "metadata": {},
   "outputs": [
    {
     "output_type": "error",
     "ename": "AttributeError",
     "evalue": "'str' object has no attribute '_geom'",
     "traceback": [
      "\u001b[0;31m---------------------------------------------------------------------------\u001b[0m",
      "\u001b[0;31mAttributeError\u001b[0m                            Traceback (most recent call last)",
      "\u001b[0;32m<ipython-input-21-778606faba18>\u001b[0m in \u001b[0;36m<module>\u001b[0;34m\u001b[0m\n\u001b[0;32m----> 1\u001b[0;31m \u001b[0mkepler_map\u001b[0m\u001b[0;34m.\u001b[0m\u001b[0msave_to_html\u001b[0m\u001b[0;34m(\u001b[0m\u001b[0mfile_name\u001b[0m \u001b[0;34m=\u001b[0m \u001b[0;34m\"kepler.html\"\u001b[0m\u001b[0;34m,\u001b[0m \u001b[0mconfig\u001b[0m \u001b[0;34m=\u001b[0m \u001b[0mcurrent_config\u001b[0m\u001b[0;34m,\u001b[0m \u001b[0mread_only\u001b[0m \u001b[0;34m=\u001b[0m \u001b[0;32mTrue\u001b[0m\u001b[0;34m)\u001b[0m\u001b[0;34m\u001b[0m\u001b[0;34m\u001b[0m\u001b[0m\n\u001b[0m",
      "\u001b[0;32m~/opt/anaconda3/envs/mortviz/lib/python3.8/site-packages/keplergl/keplergl.py\u001b[0m in \u001b[0;36msave_to_html\u001b[0;34m(self, data, config, file_name, read_only, center_map)\u001b[0m\n\u001b[1;32m    160\u001b[0m         \u001b[0mk\u001b[0m \u001b[0;34m=\u001b[0m \u001b[0mkeplergl_html\u001b[0m\u001b[0;34m.\u001b[0m\u001b[0mfind\u001b[0m\u001b[0;34m(\u001b[0m\u001b[0;34m\"<body>\"\u001b[0m\u001b[0;34m)\u001b[0m\u001b[0;34m\u001b[0m\u001b[0;34m\u001b[0m\u001b[0m\n\u001b[1;32m    161\u001b[0m \u001b[0;34m\u001b[0m\u001b[0m\n\u001b[0;32m--> 162\u001b[0;31m         \u001b[0mdata_to_add\u001b[0m \u001b[0;34m=\u001b[0m \u001b[0mdata_to_json\u001b[0m\u001b[0;34m(\u001b[0m\u001b[0mself\u001b[0m\u001b[0;34m.\u001b[0m\u001b[0mdata\u001b[0m\u001b[0;34m,\u001b[0m \u001b[0;32mNone\u001b[0m\u001b[0;34m)\u001b[0m \u001b[0;32mif\u001b[0m \u001b[0mdata\u001b[0m \u001b[0;34m==\u001b[0m \u001b[0;32mNone\u001b[0m \u001b[0;32melse\u001b[0m \u001b[0mdata_to_json\u001b[0m\u001b[0;34m(\u001b[0m\u001b[0mdata\u001b[0m\u001b[0;34m,\u001b[0m \u001b[0;32mNone\u001b[0m\u001b[0;34m)\u001b[0m\u001b[0;34m\u001b[0m\u001b[0;34m\u001b[0m\u001b[0m\n\u001b[0m\u001b[1;32m    163\u001b[0m         \u001b[0mconfig_to_add\u001b[0m \u001b[0;34m=\u001b[0m \u001b[0mself\u001b[0m\u001b[0;34m.\u001b[0m\u001b[0mconfig\u001b[0m \u001b[0;32mif\u001b[0m \u001b[0mconfig\u001b[0m \u001b[0;34m==\u001b[0m \u001b[0;32mNone\u001b[0m \u001b[0;32melse\u001b[0m \u001b[0mconfig\u001b[0m\u001b[0;34m\u001b[0m\u001b[0;34m\u001b[0m\u001b[0m\n\u001b[1;32m    164\u001b[0m \u001b[0;34m\u001b[0m\u001b[0m\n",
      "\u001b[0;32m~/opt/anaconda3/envs/mortviz/lib/python3.8/site-packages/keplergl/keplergl.py\u001b[0m in \u001b[0;36mdata_to_json\u001b[0;34m(data, manager)\u001b[0m\n\u001b[1;32m     62\u001b[0m             \u001b[0mdataset\u001b[0m \u001b[0;34m=\u001b[0m \u001b[0;34m{\u001b[0m\u001b[0;34m}\u001b[0m\u001b[0;34m\u001b[0m\u001b[0;34m\u001b[0m\u001b[0m\n\u001b[1;32m     63\u001b[0m             \u001b[0;32mfor\u001b[0m \u001b[0mkey\u001b[0m\u001b[0;34m,\u001b[0m \u001b[0mvalue\u001b[0m \u001b[0;32min\u001b[0m \u001b[0mdata\u001b[0m\u001b[0;34m.\u001b[0m\u001b[0mitems\u001b[0m\u001b[0;34m(\u001b[0m\u001b[0;34m)\u001b[0m\u001b[0;34m:\u001b[0m\u001b[0;34m\u001b[0m\u001b[0;34m\u001b[0m\u001b[0m\n\u001b[0;32m---> 64\u001b[0;31m                 \u001b[0mnormalized\u001b[0m \u001b[0;34m=\u001b[0m \u001b[0m_normalize_data\u001b[0m\u001b[0;34m(\u001b[0m\u001b[0mvalue\u001b[0m\u001b[0;34m)\u001b[0m\u001b[0;34m\u001b[0m\u001b[0;34m\u001b[0m\u001b[0m\n\u001b[0m\u001b[1;32m     65\u001b[0m                 \u001b[0mdataset\u001b[0m\u001b[0;34m.\u001b[0m\u001b[0mupdate\u001b[0m\u001b[0;34m(\u001b[0m\u001b[0;34m{\u001b[0m\u001b[0mkey\u001b[0m\u001b[0;34m:\u001b[0m \u001b[0mnormalized\u001b[0m\u001b[0;34m}\u001b[0m\u001b[0;34m)\u001b[0m\u001b[0;34m\u001b[0m\u001b[0;34m\u001b[0m\u001b[0m\n\u001b[1;32m     66\u001b[0m \u001b[0;34m\u001b[0m\u001b[0m\n",
      "\u001b[0;32m~/opt/anaconda3/envs/mortviz/lib/python3.8/site-packages/keplergl/keplergl.py\u001b[0m in \u001b[0;36m_normalize_data\u001b[0;34m(data)\u001b[0m\n\u001b[1;32m     44\u001b[0m \u001b[0;32mdef\u001b[0m \u001b[0m_normalize_data\u001b[0m\u001b[0;34m(\u001b[0m\u001b[0mdata\u001b[0m\u001b[0;34m)\u001b[0m\u001b[0;34m:\u001b[0m\u001b[0;34m\u001b[0m\u001b[0;34m\u001b[0m\u001b[0m\n\u001b[1;32m     45\u001b[0m     \u001b[0;32mif\u001b[0m \u001b[0misinstance\u001b[0m\u001b[0;34m(\u001b[0m\u001b[0mdata\u001b[0m\u001b[0;34m,\u001b[0m \u001b[0mpd\u001b[0m\u001b[0;34m.\u001b[0m\u001b[0mDataFrame\u001b[0m\u001b[0;34m)\u001b[0m\u001b[0;34m:\u001b[0m\u001b[0;34m\u001b[0m\u001b[0;34m\u001b[0m\u001b[0m\n\u001b[0;32m---> 46\u001b[0;31m         \u001b[0;32mreturn\u001b[0m \u001b[0m_gdf_to_dict\u001b[0m\u001b[0;34m(\u001b[0m\u001b[0mdata\u001b[0m\u001b[0;34m)\u001b[0m \u001b[0;32mif\u001b[0m \u001b[0misinstance\u001b[0m\u001b[0;34m(\u001b[0m\u001b[0mdata\u001b[0m\u001b[0;34m,\u001b[0m \u001b[0mgeopandas\u001b[0m\u001b[0;34m.\u001b[0m\u001b[0mGeoDataFrame\u001b[0m\u001b[0;34m)\u001b[0m \u001b[0;32melse\u001b[0m \u001b[0m_df_to_dict\u001b[0m\u001b[0;34m(\u001b[0m\u001b[0mdata\u001b[0m\u001b[0;34m)\u001b[0m\u001b[0;34m\u001b[0m\u001b[0;34m\u001b[0m\u001b[0m\n\u001b[0m\u001b[1;32m     47\u001b[0m     \u001b[0;32mreturn\u001b[0m \u001b[0mdata\u001b[0m\u001b[0;34m\u001b[0m\u001b[0;34m\u001b[0m\u001b[0m\n\u001b[1;32m     48\u001b[0m \u001b[0;34m\u001b[0m\u001b[0m\n",
      "\u001b[0;32m~/opt/anaconda3/envs/mortviz/lib/python3.8/site-packages/keplergl/keplergl.py\u001b[0m in \u001b[0;36m_gdf_to_dict\u001b[0;34m(gdf)\u001b[0m\n\u001b[1;32m     38\u001b[0m     \u001b[0mdf\u001b[0m \u001b[0;34m=\u001b[0m \u001b[0mpd\u001b[0m\u001b[0;34m.\u001b[0m\u001b[0mDataFrame\u001b[0m\u001b[0;34m(\u001b[0m\u001b[0mgdf\u001b[0m\u001b[0;34m)\u001b[0m\u001b[0;34m\u001b[0m\u001b[0;34m\u001b[0m\u001b[0m\n\u001b[1;32m     39\u001b[0m     \u001b[0;31m# convert geometry to wkt\u001b[0m\u001b[0;34m\u001b[0m\u001b[0;34m\u001b[0m\u001b[0;34m\u001b[0m\u001b[0m\n\u001b[0;32m---> 40\u001b[0;31m     \u001b[0mdf\u001b[0m\u001b[0;34m[\u001b[0m\u001b[0mname\u001b[0m\u001b[0;34m]\u001b[0m \u001b[0;34m=\u001b[0m \u001b[0mdf\u001b[0m\u001b[0;34m.\u001b[0m\u001b[0mgeometry\u001b[0m\u001b[0;34m.\u001b[0m\u001b[0mapply\u001b[0m\u001b[0;34m(\u001b[0m\u001b[0;32mlambda\u001b[0m \u001b[0mx\u001b[0m\u001b[0;34m:\u001b[0m \u001b[0mshapely\u001b[0m\u001b[0;34m.\u001b[0m\u001b[0mwkt\u001b[0m\u001b[0;34m.\u001b[0m\u001b[0mdumps\u001b[0m\u001b[0;34m(\u001b[0m\u001b[0mx\u001b[0m\u001b[0;34m)\u001b[0m\u001b[0;34m)\u001b[0m\u001b[0;34m\u001b[0m\u001b[0;34m\u001b[0m\u001b[0m\n\u001b[0m\u001b[1;32m     41\u001b[0m \u001b[0;34m\u001b[0m\u001b[0m\n\u001b[1;32m     42\u001b[0m     \u001b[0;32mreturn\u001b[0m \u001b[0m_df_to_dict\u001b[0m\u001b[0;34m(\u001b[0m\u001b[0mdf\u001b[0m\u001b[0;34m)\u001b[0m\u001b[0;34m\u001b[0m\u001b[0;34m\u001b[0m\u001b[0m\n",
      "\u001b[0;32m~/opt/anaconda3/envs/mortviz/lib/python3.8/site-packages/pandas/core/series.py\u001b[0m in \u001b[0;36mapply\u001b[0;34m(self, func, convert_dtype, args, **kwds)\u001b[0m\n\u001b[1;32m   4198\u001b[0m             \u001b[0;32melse\u001b[0m\u001b[0;34m:\u001b[0m\u001b[0;34m\u001b[0m\u001b[0;34m\u001b[0m\u001b[0m\n\u001b[1;32m   4199\u001b[0m                 \u001b[0mvalues\u001b[0m \u001b[0;34m=\u001b[0m \u001b[0mself\u001b[0m\u001b[0;34m.\u001b[0m\u001b[0mastype\u001b[0m\u001b[0;34m(\u001b[0m\u001b[0mobject\u001b[0m\u001b[0;34m)\u001b[0m\u001b[0;34m.\u001b[0m\u001b[0m_values\u001b[0m\u001b[0;34m\u001b[0m\u001b[0;34m\u001b[0m\u001b[0m\n\u001b[0;32m-> 4200\u001b[0;31m                 \u001b[0mmapped\u001b[0m \u001b[0;34m=\u001b[0m \u001b[0mlib\u001b[0m\u001b[0;34m.\u001b[0m\u001b[0mmap_infer\u001b[0m\u001b[0;34m(\u001b[0m\u001b[0mvalues\u001b[0m\u001b[0;34m,\u001b[0m \u001b[0mf\u001b[0m\u001b[0;34m,\u001b[0m \u001b[0mconvert\u001b[0m\u001b[0;34m=\u001b[0m\u001b[0mconvert_dtype\u001b[0m\u001b[0;34m)\u001b[0m\u001b[0;34m\u001b[0m\u001b[0;34m\u001b[0m\u001b[0m\n\u001b[0m\u001b[1;32m   4201\u001b[0m \u001b[0;34m\u001b[0m\u001b[0m\n\u001b[1;32m   4202\u001b[0m         \u001b[0;32mif\u001b[0m \u001b[0mlen\u001b[0m\u001b[0;34m(\u001b[0m\u001b[0mmapped\u001b[0m\u001b[0;34m)\u001b[0m \u001b[0;32mand\u001b[0m \u001b[0misinstance\u001b[0m\u001b[0;34m(\u001b[0m\u001b[0mmapped\u001b[0m\u001b[0;34m[\u001b[0m\u001b[0;36m0\u001b[0m\u001b[0;34m]\u001b[0m\u001b[0;34m,\u001b[0m \u001b[0mSeries\u001b[0m\u001b[0;34m)\u001b[0m\u001b[0;34m:\u001b[0m\u001b[0;34m\u001b[0m\u001b[0;34m\u001b[0m\u001b[0m\n",
      "\u001b[0;32mpandas/_libs/lib.pyx\u001b[0m in \u001b[0;36mpandas._libs.lib.map_infer\u001b[0;34m()\u001b[0m\n",
      "\u001b[0;32m~/opt/anaconda3/envs/mortviz/lib/python3.8/site-packages/keplergl/keplergl.py\u001b[0m in \u001b[0;36m<lambda>\u001b[0;34m(x)\u001b[0m\n\u001b[1;32m     38\u001b[0m     \u001b[0mdf\u001b[0m \u001b[0;34m=\u001b[0m \u001b[0mpd\u001b[0m\u001b[0;34m.\u001b[0m\u001b[0mDataFrame\u001b[0m\u001b[0;34m(\u001b[0m\u001b[0mgdf\u001b[0m\u001b[0;34m)\u001b[0m\u001b[0;34m\u001b[0m\u001b[0;34m\u001b[0m\u001b[0m\n\u001b[1;32m     39\u001b[0m     \u001b[0;31m# convert geometry to wkt\u001b[0m\u001b[0;34m\u001b[0m\u001b[0;34m\u001b[0m\u001b[0;34m\u001b[0m\u001b[0m\n\u001b[0;32m---> 40\u001b[0;31m     \u001b[0mdf\u001b[0m\u001b[0;34m[\u001b[0m\u001b[0mname\u001b[0m\u001b[0;34m]\u001b[0m \u001b[0;34m=\u001b[0m \u001b[0mdf\u001b[0m\u001b[0;34m.\u001b[0m\u001b[0mgeometry\u001b[0m\u001b[0;34m.\u001b[0m\u001b[0mapply\u001b[0m\u001b[0;34m(\u001b[0m\u001b[0;32mlambda\u001b[0m \u001b[0mx\u001b[0m\u001b[0;34m:\u001b[0m \u001b[0mshapely\u001b[0m\u001b[0;34m.\u001b[0m\u001b[0mwkt\u001b[0m\u001b[0;34m.\u001b[0m\u001b[0mdumps\u001b[0m\u001b[0;34m(\u001b[0m\u001b[0mx\u001b[0m\u001b[0;34m)\u001b[0m\u001b[0;34m)\u001b[0m\u001b[0;34m\u001b[0m\u001b[0;34m\u001b[0m\u001b[0m\n\u001b[0m\u001b[1;32m     41\u001b[0m \u001b[0;34m\u001b[0m\u001b[0m\n\u001b[1;32m     42\u001b[0m     \u001b[0;32mreturn\u001b[0m \u001b[0m_df_to_dict\u001b[0m\u001b[0;34m(\u001b[0m\u001b[0mdf\u001b[0m\u001b[0;34m)\u001b[0m\u001b[0;34m\u001b[0m\u001b[0;34m\u001b[0m\u001b[0m\n",
      "\u001b[0;32m~/opt/anaconda3/envs/mortviz/lib/python3.8/site-packages/shapely/wkt.py\u001b[0m in \u001b[0;36mdumps\u001b[0;34m(ob, trim, **kw)\u001b[0m\n\u001b[1;32m     60\u001b[0m     \u001b[0minput\u001b[0m \u001b[0mgeometry\u001b[0m \u001b[0;32mas\u001b[0m \u001b[0mWKT\u001b[0m \u001b[0mstring\u001b[0m\u001b[0;34m\u001b[0m\u001b[0;34m\u001b[0m\u001b[0m\n\u001b[1;32m     61\u001b[0m     \"\"\"\n\u001b[0;32m---> 62\u001b[0;31m     \u001b[0;32mreturn\u001b[0m \u001b[0mgeos\u001b[0m\u001b[0;34m.\u001b[0m\u001b[0mWKTWriter\u001b[0m\u001b[0;34m(\u001b[0m\u001b[0mgeos\u001b[0m\u001b[0;34m.\u001b[0m\u001b[0mlgeos\u001b[0m\u001b[0;34m,\u001b[0m \u001b[0mtrim\u001b[0m\u001b[0;34m=\u001b[0m\u001b[0mtrim\u001b[0m\u001b[0;34m,\u001b[0m \u001b[0;34m**\u001b[0m\u001b[0mkw\u001b[0m\u001b[0;34m)\u001b[0m\u001b[0;34m.\u001b[0m\u001b[0mwrite\u001b[0m\u001b[0;34m(\u001b[0m\u001b[0mob\u001b[0m\u001b[0;34m)\u001b[0m\u001b[0;34m\u001b[0m\u001b[0;34m\u001b[0m\u001b[0m\n\u001b[0m\u001b[1;32m     63\u001b[0m \u001b[0;34m\u001b[0m\u001b[0m\n\u001b[1;32m     64\u001b[0m \u001b[0;34m\u001b[0m\u001b[0m\n",
      "\u001b[0;32m~/opt/anaconda3/envs/mortviz/lib/python3.8/site-packages/shapely/geos.py\u001b[0m in \u001b[0;36mwrite\u001b[0;34m(self, geom)\u001b[0m\n\u001b[1;32m    395\u001b[0m     \u001b[0;32mdef\u001b[0m \u001b[0mwrite\u001b[0m\u001b[0;34m(\u001b[0m\u001b[0mself\u001b[0m\u001b[0;34m,\u001b[0m \u001b[0mgeom\u001b[0m\u001b[0;34m)\u001b[0m\u001b[0;34m:\u001b[0m\u001b[0;34m\u001b[0m\u001b[0;34m\u001b[0m\u001b[0m\n\u001b[1;32m    396\u001b[0m         \u001b[0;34m\"\"\"Returns WKT string for geometry\"\"\"\u001b[0m\u001b[0;34m\u001b[0m\u001b[0;34m\u001b[0m\u001b[0m\n\u001b[0;32m--> 397\u001b[0;31m         \u001b[0;32mif\u001b[0m \u001b[0mgeom\u001b[0m \u001b[0;32mis\u001b[0m \u001b[0;32mNone\u001b[0m \u001b[0;32mor\u001b[0m \u001b[0mgeom\u001b[0m\u001b[0;34m.\u001b[0m\u001b[0m_geom\u001b[0m \u001b[0;32mis\u001b[0m \u001b[0;32mNone\u001b[0m\u001b[0;34m:\u001b[0m\u001b[0;34m\u001b[0m\u001b[0;34m\u001b[0m\u001b[0m\n\u001b[0m\u001b[1;32m    398\u001b[0m             \u001b[0;32mraise\u001b[0m \u001b[0mValueError\u001b[0m\u001b[0;34m(\u001b[0m\u001b[0;34m\"Null geometry supports no operations\"\u001b[0m\u001b[0;34m)\u001b[0m\u001b[0;34m\u001b[0m\u001b[0;34m\u001b[0m\u001b[0m\n\u001b[1;32m    399\u001b[0m         \u001b[0mresult\u001b[0m \u001b[0;34m=\u001b[0m \u001b[0mself\u001b[0m\u001b[0;34m.\u001b[0m\u001b[0m_lgeos\u001b[0m\u001b[0;34m.\u001b[0m\u001b[0mGEOSWKTWriter_write\u001b[0m\u001b[0;34m(\u001b[0m\u001b[0mself\u001b[0m\u001b[0;34m.\u001b[0m\u001b[0m_writer\u001b[0m\u001b[0;34m,\u001b[0m \u001b[0mgeom\u001b[0m\u001b[0;34m.\u001b[0m\u001b[0m_geom\u001b[0m\u001b[0;34m)\u001b[0m\u001b[0;34m\u001b[0m\u001b[0;34m\u001b[0m\u001b[0m\n",
      "\u001b[0;31mAttributeError\u001b[0m: 'str' object has no attribute '_geom'"
     ]
    }
   ],
   "source": [
    "kepler_map.save_to_html(file_name = \"kepler.html\", config = current_config, read_only = True)"
   ]
  },
  {
   "cell_type": "code",
   "execution_count": null,
   "metadata": {},
   "outputs": [],
   "source": []
  }
 ]
}